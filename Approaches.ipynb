{
 "cells": [
  {
   "cell_type": "code",
   "execution_count": 3,
   "metadata": {},
   "outputs": [],
   "source": [
    "import numpy as np\n",
    "import pandas as pd\n",
    "import matplotlib.pyplot as plt\n",
    "from sklearn.cluster import KMeans\n",
    "from sklearn.model_selection import train_test_split\n",
    "import concurrent.futures\n",
    "from joblib import Parallel, delayed\n",
    "import multiprocessing\n",
    "from sklearn.cluster import DBSCAN\n",
    "import torch.nn as nn\n",
    "import torch.optim as optim\n",
    "from sklearn.preprocessing import StandardScaler\n",
    "from sklearn.cluster import DBSCAN\n",
    "import seaborn as sns\n"
   ]
  },
  {
   "cell_type": "code",
   "execution_count": 4,
   "metadata": {},
   "outputs": [],
   "source": [
    "# Load the dataset files\n",
    "ratings = pd.read_csv('ratings.csv')\n",
    "to_read = pd.read_csv('to_read.csv')\n",
    "books = pd.read_csv('books.csv')\n",
    "book_tags = pd.read_csv('book_tags.csv')\n",
    "tags = pd.read_csv('tags.csv')"
   ]
  },
  {
   "cell_type": "code",
   "execution_count": 29,
   "metadata": {},
   "outputs": [],
   "source": [
    "# Initial data exploration\n",
    "def explore_data(df):\n",
    "    print(df.head())"
   ]
  },
  {
   "cell_type": "code",
   "execution_count": 7,
   "metadata": {},
   "outputs": [
    {
     "name": "stdout",
     "output_type": "stream",
     "text": [
      "   user_id  book_id  rating\n",
      "0        1      258       5\n",
      "1        2     4081       4\n",
      "2        2      260       5\n",
      "3        2     9296       5\n",
      "4        2     2318       3\n",
      "   user_id  book_id\n",
      "0        9        8\n",
      "1       15      398\n",
      "2       15      275\n",
      "3       37     7173\n",
      "4       34      380\n",
      "   book_id  goodreads_book_id  best_book_id  work_id  books_count       isbn  \\\n",
      "0        1            2767052       2767052  2792775          272  439023483   \n",
      "1        2                  3             3  4640799          491  439554934   \n",
      "2        3              41865         41865  3212258          226  316015849   \n",
      "3        4               2657          2657  3275794          487   61120081   \n",
      "4        5               4671          4671   245494         1356  743273567   \n",
      "\n",
      "         isbn13                      authors  original_publication_year  \\\n",
      "0  9.780439e+12              Suzanne Collins                     2008.0   \n",
      "1  9.780440e+12  J.K. Rowling, Mary GrandPré                     1997.0   \n",
      "2  9.780316e+12              Stephenie Meyer                     2005.0   \n",
      "3  9.780061e+12                   Harper Lee                     1960.0   \n",
      "4  9.780743e+12          F. Scott Fitzgerald                     1925.0   \n",
      "\n",
      "                             original_title  ... ratings_count  \\\n",
      "0                          The Hunger Games  ...       4780653   \n",
      "1  Harry Potter and the Philosopher's Stone  ...       4602479   \n",
      "2                                  Twilight  ...       3866839   \n",
      "3                     To Kill a Mockingbird  ...       3198671   \n",
      "4                          The Great Gatsby  ...       2683664   \n",
      "\n",
      "  work_ratings_count  work_text_reviews_count  ratings_1  ratings_2  \\\n",
      "0            4942365                   155254      66715     127936   \n",
      "1            4800065                    75867      75504     101676   \n",
      "2            3916824                    95009     456191     436802   \n",
      "3            3340896                    72586      60427     117415   \n",
      "4            2773745                    51992      86236     197621   \n",
      "\n",
      "   ratings_3  ratings_4  ratings_5  \\\n",
      "0     560092    1481305    2706317   \n",
      "1     455024    1156318    3011543   \n",
      "2     793319     875073    1355439   \n",
      "3     446835    1001952    1714267   \n",
      "4     606158     936012     947718   \n",
      "\n",
      "                                           image_url  \\\n",
      "0  https://images.gr-assets.com/books/1447303603m...   \n",
      "1  https://images.gr-assets.com/books/1474154022m...   \n",
      "2  https://images.gr-assets.com/books/1361039443m...   \n",
      "3  https://images.gr-assets.com/books/1361975680m...   \n",
      "4  https://images.gr-assets.com/books/1490528560m...   \n",
      "\n",
      "                                     small_image_url  \n",
      "0  https://images.gr-assets.com/books/1447303603s...  \n",
      "1  https://images.gr-assets.com/books/1474154022s...  \n",
      "2  https://images.gr-assets.com/books/1361039443s...  \n",
      "3  https://images.gr-assets.com/books/1361975680s...  \n",
      "4  https://images.gr-assets.com/books/1490528560s...  \n",
      "\n",
      "[5 rows x 23 columns]\n",
      "   goodreads_book_id  tag_id   count\n",
      "0                  1   30574  167697\n",
      "1                  1   11305   37174\n",
      "2                  1   11557   34173\n",
      "3                  1    8717   12986\n",
      "4                  1   33114   12716\n",
      "   tag_id tag_name\n",
      "0       0        -\n",
      "1       1     --1-\n",
      "2       2    --10-\n",
      "3       3    --12-\n",
      "4       4   --122-\n"
     ]
    }
   ],
   "source": [
    "# Explore each dataset\n",
    "explore_data(ratings)\n",
    "explore_data(to_read)\n",
    "explore_data(books)\n",
    "explore_data(book_tags)\n",
    "explore_data(tags)"
   ]
  },
  {
   "cell_type": "code",
   "execution_count": 3,
   "metadata": {},
   "outputs": [],
   "source": [
    "# Data Preprocessing\n",
    "\n",
    "# Remove duplicates\n",
    "ratings.drop_duplicates(inplace=True)\n",
    "to_read.drop_duplicates(inplace=True)\n",
    "books.drop_duplicates(subset='book_id', inplace=True)\n",
    "book_tags.drop_duplicates(inplace=True)\n",
    "tags.drop_duplicates(inplace=True)\n",
    "\n",
    "# # Handle missing values\n",
    "# # For simplicity, we'll drop rows with missing values. Depending on the data, more sophisticated imputation methods can be used.\n",
    "# ratings.dropna(inplace=True)\n",
    "# to_read.dropna(inplace=True)\n",
    "# books.dropna(inplace=True)\n",
    "# book_tags.dropna(inplace=True)\n",
    "# tags.dropna(inplace=True)"
   ]
  },
  {
   "cell_type": "code",
   "execution_count": 22,
   "metadata": {},
   "outputs": [
    {
     "data": {
      "text/html": [
       "<div>\n",
       "<style scoped>\n",
       "    .dataframe tbody tr th:only-of-type {\n",
       "        vertical-align: middle;\n",
       "    }\n",
       "\n",
       "    .dataframe tbody tr th {\n",
       "        vertical-align: top;\n",
       "    }\n",
       "\n",
       "    .dataframe thead th {\n",
       "        text-align: right;\n",
       "    }\n",
       "</style>\n",
       "<table border=\"1\" class=\"dataframe\">\n",
       "  <thead>\n",
       "    <tr style=\"text-align: right;\">\n",
       "      <th></th>\n",
       "      <th>authors</th>\n",
       "      <th>count</th>\n",
       "    </tr>\n",
       "  </thead>\n",
       "  <tbody>\n",
       "    <tr>\n",
       "      <th>0</th>\n",
       "      <td>Stephen King</td>\n",
       "      <td>60</td>\n",
       "    </tr>\n",
       "    <tr>\n",
       "      <th>1</th>\n",
       "      <td>Nora Roberts</td>\n",
       "      <td>59</td>\n",
       "    </tr>\n",
       "    <tr>\n",
       "      <th>2</th>\n",
       "      <td>Dean Koontz</td>\n",
       "      <td>47</td>\n",
       "    </tr>\n",
       "    <tr>\n",
       "      <th>3</th>\n",
       "      <td>Terry Pratchett</td>\n",
       "      <td>42</td>\n",
       "    </tr>\n",
       "    <tr>\n",
       "      <th>4</th>\n",
       "      <td>Agatha Christie</td>\n",
       "      <td>39</td>\n",
       "    </tr>\n",
       "  </tbody>\n",
       "</table>\n",
       "</div>"
      ],
      "text/plain": [
       "           authors  count\n",
       "0     Stephen King     60\n",
       "1     Nora Roberts     59\n",
       "2      Dean Koontz     47\n",
       "3  Terry Pratchett     42\n",
       "4  Agatha Christie     39"
      ]
     },
     "execution_count": 22,
     "metadata": {},
     "output_type": "execute_result"
    }
   ],
   "source": [
    "a = books[\"authors\"].value_counts().reset_index().head(10)\n",
    "a.columns = [\"authors\", \"count\"]\n",
    "a.head()"
   ]
  },
  {
   "cell_type": "code",
   "execution_count": 26,
   "metadata": {},
   "outputs": [
    {
     "name": "stderr",
     "output_type": "stream",
     "text": [
      "C:\\Users\\Andrew\\AppData\\Roaming\\Python\\Python311\\site-packages\\seaborn\\_oldcore.py:1498: FutureWarning: is_categorical_dtype is deprecated and will be removed in a future version. Use isinstance(dtype, CategoricalDtype) instead\n",
      "  if pd.api.types.is_categorical_dtype(vector):\n",
      "C:\\Users\\Andrew\\AppData\\Roaming\\Python\\Python311\\site-packages\\seaborn\\_oldcore.py:1498: FutureWarning: is_categorical_dtype is deprecated and will be removed in a future version. Use isinstance(dtype, CategoricalDtype) instead\n",
      "  if pd.api.types.is_categorical_dtype(vector):\n",
      "C:\\Users\\Andrew\\AppData\\Roaming\\Python\\Python311\\site-packages\\seaborn\\_oldcore.py:1498: FutureWarning: is_categorical_dtype is deprecated and will be removed in a future version. Use isinstance(dtype, CategoricalDtype) instead\n",
      "  if pd.api.types.is_categorical_dtype(vector):\n"
     ]
    },
    {
     "data": {
      "image/png": "[encoded data removed]",
      "text/plain": [
       "<Figure size 640x480 with 1 Axes>"
      ]
     },
     "metadata": {},
     "output_type": "display_data"
    }
   ],
   "source": [
    "sns.barplot(x=\"count\",y= \"authors\", data=a, palette = \"tab10\")\n",
    "plt.xlabel(\"Count\",fontsize=10,color=\"black\")\n",
    "plt.ylabel(\"Authors\",fontsize=10,color=\"black\")\n",
    "plt.title(\"Top 10 Authors Count\",color=\"black\")\n",
    "plt.show()"
   ]
  },
  {
   "cell_type": "code",
   "execution_count": 26,
   "metadata": {},
   "outputs": [
    {
     "name": "stdout",
     "output_type": "stream",
     "text": [
      "   user_id  book_id  rating\n",
      "0        1      258       5\n",
      "1        2     4081       4\n",
      "2        2      260       5\n",
      "3        2     9296       5\n",
      "4        2     2318       3\n",
      "<class 'pandas.core.frame.DataFrame'>\n",
      "RangeIndex: 5976479 entries, 0 to 5976478\n",
      "Data columns (total 3 columns):\n",
      " #   Column   Dtype\n",
      "---  ------   -----\n",
      " 0   user_id  int64\n",
      " 1   book_id  int64\n",
      " 2   rating   int64\n",
      "dtypes: int64(3)\n",
      "memory usage: 136.8 MB\n",
      "None\n",
      "   user_id  book_id\n",
      "0        9        8\n",
      "1       15      398\n",
      "2       15      275\n",
      "3       37     7173\n",
      "4       34      380\n",
      "<class 'pandas.core.frame.DataFrame'>\n",
      "RangeIndex: 912705 entries, 0 to 912704\n",
      "Data columns (total 2 columns):\n",
      " #   Column   Non-Null Count   Dtype\n",
      "---  ------   --------------   -----\n",
      " 0   user_id  912705 non-null  int64\n",
      " 1   book_id  912705 non-null  int64\n",
      "dtypes: int64(2)\n",
      "memory usage: 13.9 MB\n",
      "None\n",
      "   book_id  goodreads_book_id  best_book_id  work_id  books_count       isbn  \\\n",
      "0        1            2767052       2767052  2792775          272  439023483   \n",
      "1        2                  3             3  4640799          491  439554934   \n",
      "2        3              41865         41865  3212258          226  316015849   \n",
      "3        4               2657          2657  3275794          487   61120081   \n",
      "4        5               4671          4671   245494         1356  743273567   \n",
      "\n",
      "         isbn13                      authors  original_publication_year  \\\n",
      "0  9.780439e+12              Suzanne Collins                     2008.0   \n",
      "1  9.780440e+12  J.K. Rowling, Mary GrandPré                     1997.0   \n",
      "2  9.780316e+12              Stephenie Meyer                     2005.0   \n",
      "3  9.780061e+12                   Harper Lee                     1960.0   \n",
      "4  9.780743e+12          F. Scott Fitzgerald                     1925.0   \n",
      "\n",
      "                             original_title  ... ratings_count  \\\n",
      "0                          The Hunger Games  ...       4780653   \n",
      "1  Harry Potter and the Philosopher's Stone  ...       4602479   \n",
      "2                                  Twilight  ...       3866839   \n",
      "3                     To Kill a Mockingbird  ...       3198671   \n",
      "4                          The Great Gatsby  ...       2683664   \n",
      "\n",
      "  work_ratings_count  work_text_reviews_count  ratings_1  ratings_2  \\\n",
      "0            4942365                   155254      66715     127936   \n",
      "1            4800065                    75867      75504     101676   \n",
      "2            3916824                    95009     456191     436802   \n",
      "3            3340896                    72586      60427     117415   \n",
      "4            2773745                    51992      86236     197621   \n",
      "\n",
      "   ratings_3  ratings_4  ratings_5  \\\n",
      "0     560092    1481305    2706317   \n",
      "1     455024    1156318    3011543   \n",
      "2     793319     875073    1355439   \n",
      "3     446835    1001952    1714267   \n",
      "4     606158     936012     947718   \n",
      "\n",
      "                                           image_url  \\\n",
      "0  https://images.gr-assets.com/books/1447303603m...   \n",
      "1  https://images.gr-assets.com/books/1474154022m...   \n",
      "2  https://images.gr-assets.com/books/1361039443m...   \n",
      "3  https://images.gr-assets.com/books/1361975680m...   \n",
      "4  https://images.gr-assets.com/books/1490528560m...   \n",
      "\n",
      "                                     small_image_url  \n",
      "0  https://images.gr-assets.com/books/1447303603s...  \n",
      "1  https://images.gr-assets.com/books/1474154022s...  \n",
      "2  https://images.gr-assets.com/books/1361039443s...  \n",
      "3  https://images.gr-assets.com/books/1361975680s...  \n",
      "4  https://images.gr-assets.com/books/1490528560s...  \n",
      "\n",
      "[5 rows x 23 columns]\n",
      "<class 'pandas.core.frame.DataFrame'>\n",
      "RangeIndex: 10000 entries, 0 to 9999\n",
      "Data columns (total 23 columns):\n",
      " #   Column                     Non-Null Count  Dtype  \n",
      "---  ------                     --------------  -----  \n",
      " 0   book_id                    10000 non-null  int64  \n",
      " 1   goodreads_book_id          10000 non-null  int64  \n",
      " 2   best_book_id               10000 non-null  int64  \n",
      " 3   work_id                    10000 non-null  int64  \n",
      " 4   books_count                10000 non-null  int64  \n",
      " 5   isbn                       9300 non-null   object \n",
      " 6   isbn13                     9415 non-null   float64\n",
      " 7   authors                    10000 non-null  object \n",
      " 8   original_publication_year  9979 non-null   float64\n",
      " 9   original_title             9415 non-null   object \n",
      " 10  title                      10000 non-null  object \n",
      " 11  language_code              8916 non-null   object \n",
      " 12  average_rating             10000 non-null  float64\n",
      " 13  ratings_count              10000 non-null  int64  \n",
      " 14  work_ratings_count         10000 non-null  int64  \n",
      " 15  work_text_reviews_count    10000 non-null  int64  \n",
      " 16  ratings_1                  10000 non-null  int64  \n",
      " 17  ratings_2                  10000 non-null  int64  \n",
      " 18  ratings_3                  10000 non-null  int64  \n",
      " 19  ratings_4                  10000 non-null  int64  \n",
      " 20  ratings_5                  10000 non-null  int64  \n",
      " 21  image_url                  10000 non-null  object \n",
      " 22  small_image_url            10000 non-null  object \n",
      "dtypes: float64(3), int64(13), object(7)\n",
      "memory usage: 1.8+ MB\n",
      "None\n",
      "   goodreads_book_id  tag_id   count\n",
      "0                  1   30574  167697\n",
      "1                  1   11305   37174\n",
      "2                  1   11557   34173\n",
      "3                  1    8717   12986\n",
      "4                  1   33114   12716\n",
      "<class 'pandas.core.frame.DataFrame'>\n",
      "Index: 999906 entries, 0 to 999911\n",
      "Data columns (total 3 columns):\n",
      " #   Column             Non-Null Count   Dtype\n",
      "---  ------             --------------   -----\n",
      " 0   goodreads_book_id  999906 non-null  int64\n",
      " 1   tag_id             999906 non-null  int64\n",
      " 2   count              999906 non-null  int64\n",
      "dtypes: int64(3)\n",
      "memory usage: 30.5 MB\n",
      "None\n",
      "   tag_id tag_name\n",
      "0       0        -\n",
      "1       1     --1-\n",
      "2       2    --10-\n",
      "3       3    --12-\n",
      "4       4   --122-\n",
      "<class 'pandas.core.frame.DataFrame'>\n",
      "RangeIndex: 34252 entries, 0 to 34251\n",
      "Data columns (total 2 columns):\n",
      " #   Column    Non-Null Count  Dtype \n",
      "---  ------    --------------  ----- \n",
      " 0   tag_id    34252 non-null  int64 \n",
      " 1   tag_name  34252 non-null  object\n",
      "dtypes: int64(1), object(1)\n",
      "memory usage: 535.3+ KB\n",
      "None\n"
     ]
    }
   ],
   "source": [
    "# Explore each dataset after preprocessing\n",
    "explore_data(ratings)\n",
    "explore_data(to_read)\n",
    "explore_data(books)\n",
    "explore_data(book_tags)\n",
    "explore_data(tags)"
   ]
  },
  {
   "cell_type": "code",
   "execution_count": null,
   "metadata": {},
   "outputs": [],
   "source": []
  },
  {
   "cell_type": "code",
   "execution_count": 5,
   "metadata": {},
   "outputs": [
    {
     "data": {
      "text/plain": [
       "[1, 2, 4, 3, 5, 17, 20, 18, 23, 7]"
      ]
     },
     "execution_count": 5,
     "metadata": {},
     "output_type": "execute_result"
    }
   ],
   "source": [
    "top_books = ratings.groupby('book_id').size().sort_values(ascending=False).head(10).index.tolist()\n",
    "top_books"
   ]
  },
  {
   "cell_type": "code",
   "execution_count": 5,
   "metadata": {},
   "outputs": [
    {
     "data": {
      "image/png": "[encoded data removed]",
      "text/plain": [
       "<Figure size 1000x600 with 1 Axes>"
      ]
     },
     "metadata": {},
     "output_type": "display_data"
    }
   ],
   "source": [
    "# Analyze distribution of ratings\n",
    "plt.figure(figsize=(10, 6))\n",
    "ratings['rating'].value_counts().sort_index().plot(kind='bar')\n",
    "plt.title('Distribution of Ratings')\n",
    "plt.xlabel('Rating')\n",
    "plt.ylabel('Count')\n",
    "plt.show()\n",
    "\n"
   ]
  },
  {
   "cell_type": "code",
   "execution_count": 7,
   "metadata": {},
   "outputs": [
    {
     "name": "stdout",
     "output_type": "stream",
     "text": [
      "Most Popular Books:\n",
      "                                                title  \\\n",
      "0             The Hunger Games (The Hunger Games, #1)   \n",
      "1   Harry Potter and the Sorcerer's Stone (Harry P...   \n",
      "2                             Twilight (Twilight, #1)   \n",
      "3                               To Kill a Mockingbird   \n",
      "4                                    The Great Gatsby   \n",
      "6                                          The Hobbit   \n",
      "16               Catching Fire (The Hunger Games, #2)   \n",
      "17  Harry Potter and the Prisoner of Azkaban (Harr...   \n",
      "19                  Mockingjay (The Hunger Games, #3)   \n",
      "22  Harry Potter and the Chamber of Secrets (Harry...   \n",
      "\n",
      "                                    authors  \n",
      "0                           Suzanne Collins  \n",
      "1               J.K. Rowling, Mary GrandPré  \n",
      "2                           Stephenie Meyer  \n",
      "3                                Harper Lee  \n",
      "4                       F. Scott Fitzgerald  \n",
      "6                            J.R.R. Tolkien  \n",
      "16                          Suzanne Collins  \n",
      "17  J.K. Rowling, Mary GrandPré, Rufus Beck  \n",
      "19                          Suzanne Collins  \n",
      "22              J.K. Rowling, Mary GrandPré  \n"
     ]
    }
   ],
   "source": [
    "# Determine most popular books\n",
    "popular_books = ratings.groupby('book_id')['rating'].count().sort_values(ascending=False).head(10)\n",
    "print('Most Popular Books:')\n",
    "print(books[books['book_id'].isin(popular_books.index)][['title', 'authors']])\n",
    "\n"
   ]
  },
  {
   "cell_type": "code",
   "execution_count": 8,
   "metadata": {},
   "outputs": [
    {
     "name": "stdout",
     "output_type": "stream",
     "text": [
      "\n",
      "Most Popular Authors:\n",
      "authors\n",
      "Suzanne Collins                            3\n",
      "J.K. Rowling, Mary GrandPré                2\n",
      "Stephenie Meyer                            1\n",
      "Harper Lee                                 1\n",
      "F. Scott Fitzgerald                        1\n",
      "J.R.R. Tolkien                             1\n",
      "J.K. Rowling, Mary GrandPré, Rufus Beck    1\n",
      "Name: count, dtype: int64\n"
     ]
    }
   ],
   "source": [
    "# Determine most popular authors\n",
    "popular_authors = books[books['book_id'].isin(popular_books.index)]['authors'].value_counts().head(10)\n",
    "print('\\nMost Popular Authors:')\n",
    "print(popular_authors)\n",
    "\n"
   ]
  },
  {
   "cell_type": "code",
   "execution_count": 9,
   "metadata": {},
   "outputs": [
    {
     "data": {
      "image/png": "[encoded data removed]",
      "text/plain": [
       "<Figure size 1000x600 with 1 Axes>"
      ]
     },
     "metadata": {},
     "output_type": "display_data"
    }
   ],
   "source": [
    "# Investigate distribution of tags\n",
    "merged_tags = pd.merge(book_tags, tags, on='tag_id')\n",
    "tag_counts = merged_tags['tag_name'].value_counts().head(10)\n",
    "plt.figure(figsize=(10, 6))\n",
    "tag_counts.plot(kind='bar')\n",
    "plt.title('Top 10 Tags')\n",
    "plt.xlabel('Tag')\n",
    "plt.ylabel('Count')\n",
    "plt.show()"
   ]
  },
  {
   "cell_type": "code",
   "execution_count": null,
   "metadata": {},
   "outputs": [],
   "source": [
    "len(ratings['user_id'].unique())"
   ]
  },
  {
   "cell_type": "markdown",
   "metadata": {},
   "source": [
    "# 1. K-means + Q-learing"
   ]
  },
  {
   "cell_type": "markdown",
   "metadata": {},
   "source": [
    "## K-means"
   ]
  },
  {
   "cell_type": "code",
   "execution_count": 43,
   "metadata": {},
   "outputs": [],
   "source": [
    "# User Clustering\n",
    "user_ratings = ratings.pivot(index='user_id', columns='book_id', values='rating').fillna(0)"
   ]
  },
  {
   "cell_type": "markdown",
   "metadata": {},
   "source": [
    "### Elbow method"
   ]
  },
  {
   "cell_type": "code",
   "execution_count": null,
   "metadata": {},
   "outputs": [],
   "source": [
    "# Sample a subset of the data for clustering\n",
    "sample_size = 0.1  # Adjust this value based on your needs\n",
    "sample_data = user_ratings.sample(frac=sample_size, random_state=42)\n",
    "sample_data"
   ]
  },
  {
   "cell_type": "code",
   "execution_count": 25,
   "metadata": {},
   "outputs": [
    {
     "name": "stderr",
     "output_type": "stream",
     "text": [
      "C:\\Users\\Andrew\\AppData\\Roaming\\Python\\Python311\\site-packages\\sklearn\\cluster\\_kmeans.py:1416: FutureWarning: The default value of `n_init` will change from 10 to 'auto' in 1.4. Set the value of `n_init` explicitly to suppress the warning\n",
      "  super()._check_params_vs_input(X, default_n_init=10)\n",
      "C:\\Users\\Andrew\\AppData\\Roaming\\Python\\Python311\\site-packages\\sklearn\\cluster\\_kmeans.py:1416: FutureWarning: The default value of `n_init` will change from 10 to 'auto' in 1.4. Set the value of `n_init` explicitly to suppress the warning\n",
      "  super()._check_params_vs_input(X, default_n_init=10)\n",
      "C:\\Users\\Andrew\\AppData\\Roaming\\Python\\Python311\\site-packages\\sklearn\\cluster\\_kmeans.py:1416: FutureWarning: The default value of `n_init` will change from 10 to 'auto' in 1.4. Set the value of `n_init` explicitly to suppress the warning\n",
      "  super()._check_params_vs_input(X, default_n_init=10)\n",
      "C:\\Users\\Andrew\\AppData\\Roaming\\Python\\Python311\\site-packages\\sklearn\\cluster\\_kmeans.py:1416: FutureWarning: The default value of `n_init` will change from 10 to 'auto' in 1.4. Set the value of `n_init` explicitly to suppress the warning\n",
      "  super()._check_params_vs_input(X, default_n_init=10)\n",
      "C:\\Users\\Andrew\\AppData\\Roaming\\Python\\Python311\\site-packages\\sklearn\\cluster\\_kmeans.py:1416: FutureWarning: The default value of `n_init` will change from 10 to 'auto' in 1.4. Set the value of `n_init` explicitly to suppress the warning\n",
      "  super()._check_params_vs_input(X, default_n_init=10)\n",
      "C:\\Users\\Andrew\\AppData\\Roaming\\Python\\Python311\\site-packages\\sklearn\\cluster\\_kmeans.py:1416: FutureWarning: The default value of `n_init` will change from 10 to 'auto' in 1.4. Set the value of `n_init` explicitly to suppress the warning\n",
      "  super()._check_params_vs_input(X, default_n_init=10)\n",
      "C:\\Users\\Andrew\\AppData\\Roaming\\Python\\Python311\\site-packages\\sklearn\\cluster\\_kmeans.py:1416: FutureWarning: The default value of `n_init` will change from 10 to 'auto' in 1.4. Set the value of `n_init` explicitly to suppress the warning\n",
      "  super()._check_params_vs_input(X, default_n_init=10)\n",
      "C:\\Users\\Andrew\\AppData\\Roaming\\Python\\Python311\\site-packages\\sklearn\\cluster\\_kmeans.py:1416: FutureWarning: The default value of `n_init` will change from 10 to 'auto' in 1.4. Set the value of `n_init` explicitly to suppress the warning\n",
      "  super()._check_params_vs_input(X, default_n_init=10)\n",
      "C:\\Users\\Andrew\\AppData\\Roaming\\Python\\Python311\\site-packages\\sklearn\\cluster\\_kmeans.py:1416: FutureWarning: The default value of `n_init` will change from 10 to 'auto' in 1.4. Set the value of `n_init` explicitly to suppress the warning\n",
      "  super()._check_params_vs_input(X, default_n_init=10)\n",
      "C:\\Users\\Andrew\\AppData\\Roaming\\Python\\Python311\\site-packages\\sklearn\\cluster\\_kmeans.py:1416: FutureWarning: The default value of `n_init` will change from 10 to 'auto' in 1.4. Set the value of `n_init` explicitly to suppress the warning\n",
      "  super()._check_params_vs_input(X, default_n_init=10)\n"
     ]
    }
   ],
   "source": [
    "# Elbow method on sampled data\n",
    "inertia = []\n",
    "K = range(1, 30)  # You can adjust the range based on your needs\n",
    "\n",
    "for k in K:\n",
    "    kmeans = KMeans(n_clusters=k, random_state=42).fit(sample_data)\n",
    "    inertia.append(kmeans.inertia_)"
   ]
  },
  {
   "cell_type": "code",
   "execution_count": 41,
   "metadata": {},
   "outputs": [
    {
     "data": {
      "image/png": "[encoded data removed]",
      "text/plain": [
       "<Figure size 1000x600 with 1 Axes>"
      ]
     },
     "metadata": {},
     "output_type": "display_data"
    }
   ],
   "source": [
    "# Кількість кластерів\n",
    "clusters = list(range(1, 30))\n",
    "\n",
    "# Побудова графіку\n",
    "plt.figure(figsize=(10,6))\n",
    "plt.plot(clusters, inertia, marker='o', linestyle='--', color='b')\n",
    "plt.scatter(7, inertia[6], color='red', s=100, zorder=5)\n",
    "plt.xlabel('Number of Clusters')\n",
    "plt.ylabel('Inertia')\n",
    "plt.title('Elbow Method For Optimal Number of Clusters')\n",
    "plt.grid(True, which='both', linestyle='--', linewidth=0.5)\n",
    "plt.xticks(clusters)  # Set x-axis ticks to be integers for better clarity\n",
    "plt.tight_layout()  # Adjust layout for better appearance\n",
    "plt.show()"
   ]
  },
  {
   "cell_type": "markdown",
   "metadata": {},
   "source": [
    "### Final clustering"
   ]
  },
  {
   "cell_type": "code",
   "execution_count": 42,
   "metadata": {},
   "outputs": [],
   "source": [
    "n_clusters = 7"
   ]
  },
  {
   "cell_type": "code",
   "execution_count": 22,
   "metadata": {},
   "outputs": [],
   "source": [
    "clusters = pd.read_csv('clusters.csv')['cluster']"
   ]
  },
  {
   "cell_type": "code",
   "execution_count": 45,
   "metadata": {},
   "outputs": [
    {
     "name": "stderr",
     "output_type": "stream",
     "text": [
      "C:\\Users\\Andrew\\AppData\\Roaming\\Python\\Python311\\site-packages\\sklearn\\cluster\\_kmeans.py:1416: FutureWarning: The default value of `n_init` will change from 10 to 'auto' in 1.4. Set the value of `n_init` explicitly to suppress the warning\n",
      "  super()._check_params_vs_input(X, default_n_init=10)\n"
     ]
    }
   ],
   "source": [
    "clusters = KMeans(n_clusters=n_clusters).fit_predict(user_ratings)"
   ]
  },
  {
   "cell_type": "code",
   "execution_count": 49,
   "metadata": {},
   "outputs": [],
   "source": [
    "pd.DataFrame(clusters, columns=['cluster']).to_csv('k-means-clusters.csv')"
   ]
  },
  {
   "cell_type": "markdown",
   "metadata": {},
   "source": [
    "## Fill clusters"
   ]
  },
  {
   "cell_type": "code",
   "execution_count": 23,
   "metadata": {},
   "outputs": [
    {
     "ename": "NameError",
     "evalue": "name 'user_ratings' is not defined",
     "output_type": "error",
     "traceback": [
      "\u001b[1;31m---------------------------------------------------------------------------\u001b[0m",
      "\u001b[1;31mNameError\u001b[0m                                 Traceback (most recent call last)",
      "\u001b[1;32mh:\\Documents\\11\\MKR\\Approaches.ipynb Cell 28\u001b[0m line \u001b[0;36m1\n\u001b[1;32m----> <a href='vscode-notebook-cell:/h%3A/Documents/11/MKR/Approaches.ipynb#X32sZmlsZQ%3D%3D?line=0'>1</a>\u001b[0m user_cluster_mapping \u001b[39m=\u001b[39m pd\u001b[39m.\u001b[39mDataFrame({\u001b[39m'\u001b[39m\u001b[39muser_id\u001b[39m\u001b[39m'\u001b[39m: user_ratings\u001b[39m.\u001b[39mindex, \u001b[39m'\u001b[39m\u001b[39mcluster\u001b[39m\u001b[39m'\u001b[39m: clusters})\n\u001b[0;32m      <a href='vscode-notebook-cell:/h%3A/Documents/11/MKR/Approaches.ipynb#X32sZmlsZQ%3D%3D?line=2'>3</a>\u001b[0m \u001b[39m# Merge this mapping with the ratings dataframe\u001b[39;00m\n\u001b[0;32m      <a href='vscode-notebook-cell:/h%3A/Documents/11/MKR/Approaches.ipynb#X32sZmlsZQ%3D%3D?line=3'>4</a>\u001b[0m ratings \u001b[39m=\u001b[39m pd\u001b[39m.\u001b[39mmerge(ratings, user_cluster_mapping, on\u001b[39m=\u001b[39m\u001b[39m'\u001b[39m\u001b[39muser_id\u001b[39m\u001b[39m'\u001b[39m, how\u001b[39m=\u001b[39m\u001b[39m'\u001b[39m\u001b[39mleft\u001b[39m\u001b[39m'\u001b[39m)\n",
      "\u001b[1;31mNameError\u001b[0m: name 'user_ratings' is not defined"
     ]
    }
   ],
   "source": [
    "user_cluster_mapping = pd.DataFrame({'user_id': user_ratings.index, 'cluster': clusters})\n",
    "\n",
    "# Merge this mapping with the ratings dataframe\n",
    "ratings = pd.merge(ratings, user_cluster_mapping, on='user_id', how='left')"
   ]
  },
  {
   "cell_type": "markdown",
   "metadata": {},
   "source": [
    "##### SAVE CLUSTERS"
   ]
  },
  {
   "cell_type": "code",
   "execution_count": 24,
   "metadata": {},
   "outputs": [
    {
     "data": {
      "text/plain": [
       "0        0\n",
       "1        5\n",
       "2        3\n",
       "3        2\n",
       "4        3\n",
       "        ..\n",
       "53419    0\n",
       "53420    2\n",
       "53421    5\n",
       "53422    5\n",
       "53423    5\n",
       "Name: cluster, Length: 53424, dtype: int64"
      ]
     },
     "execution_count": 24,
     "metadata": {},
     "output_type": "execute_result"
    }
   ],
   "source": []
  },
  {
   "cell_type": "code",
   "execution_count": 44,
   "metadata": {},
   "outputs": [],
   "source": [
    "user_cluster_mapping.to_csv('clusters')"
   ]
  },
  {
   "cell_type": "markdown",
   "metadata": {},
   "source": [
    "## Q-learning"
   ]
  },
  {
   "cell_type": "markdown",
   "metadata": {},
   "source": [
    "### Init"
   ]
  },
  {
   "cell_type": "code",
   "execution_count": 9,
   "metadata": {},
   "outputs": [],
   "source": [
    "# Q-learning initialization\n",
    "n_books = len(books)\n",
    "Q_tables = [np.zeros((n_books, n_books)) for _ in range(n_clusters)]\n",
    "learning_rate = 0.1\n",
    "discount_factor = 0.9"
   ]
  },
  {
   "cell_type": "code",
   "execution_count": 18,
   "metadata": {},
   "outputs": [],
   "source": [
    "sample_size = 0.02\n",
    "# Split data into training and test sets\n",
    "train_ratings, test_ratings = train_test_split(ratings, test_size=0.2, random_state=42)\n",
    "sample_train_ratings = train_ratings.sample(frac=sample_size, random_state=42)"
   ]
  },
  {
   "cell_type": "markdown",
   "metadata": {},
   "source": [
    "#### Helper functions"
   ]
  },
  {
   "cell_type": "code",
   "execution_count": 73,
   "metadata": {},
   "outputs": [],
   "source": [
    "# Створимо словник to_read_dict\n",
    "to_read_dict = to_read.groupby('user_id')['book_id'].apply(list).to_dict()\n",
    "\n",
    "\n",
    "# Q-learning function\n",
    "def q_learning(user, book, reward, next_book, alpha=0.1, gamma=0.8):\n",
    "    cluster = sample_train_ratings[sample_train_ratings['user_id'] == user]['cluster'].iloc[0]\n",
    "    Q = Q_tables[cluster]\n",
    "    current_value = Q[book, next_book]\n",
    "    Q[book, next_book] = current_value + alpha * (reward + gamma * np.max(Q[next_book, :]) - current_value)\n",
    "\n",
    "\n",
    "# Recommend a book for a user\n",
    "def recommend_book(user):\n",
    "    if user not in sample_train_ratings['user_id'].values:\n",
    "        return top_books \n",
    "    cluster = sample_train_ratings[sample_train_ratings['user_id'] == user]['cluster'].iloc[0]\n",
    "    user_books = sample_train_ratings[sample_train_ratings['user_id'] == user]['book_id'].tolist()\n",
    "    max_values = np.max(Q_tables[cluster][user_books, :], axis=0)\n",
    "    recommended_books = np.argsort(max_values)[-10:]  # Recommend top 10 books\n",
    "    return recommended_books\n",
    "\n",
    "# Функція рекомендації книги з урахуванням списку to_read\n",
    "def recommend_book_with_to_read(user):\n",
    "    if user not in sample_train_ratings['user_id'].values:\n",
    "        return top_books \n",
    "    cluster = sample_train_ratings[sample_train_ratings['user_id'] == user]['cluster'].iloc[0]\n",
    "    user_books = sample_train_ratings[sample_train_ratings['user_id'] == user]['book_id'].tolist()\n",
    "    max_values = np.max(Q_tables[cluster][user_books, :], axis=0)\n",
    "    \n",
    "    # Якщо користувач має список to_read, підвищимо рейтинг відповідних книг\n",
    "    if user in to_read_dict:\n",
    "        for book_id in to_read_dict[user]:\n",
    "            if book_id < len(max_values):  # перевірка, щоб уникнути вихід за межі масиву\n",
    "                max_values[book_id] += 1  # підвищимо рейтинг на 1 (або інше значення за бажанням)\n",
    "    \n",
    "    recommended_books = np.argsort(max_values)[-10:]  # Рекомендуємо топ-10 книг\n",
    "    return recommended_books\n"
   ]
  },
  {
   "cell_type": "markdown",
   "metadata": {},
   "source": [
    "### Training"
   ]
  },
  {
   "cell_type": "code",
   "execution_count": 20,
   "metadata": {},
   "outputs": [
    {
     "name": "stdout",
     "output_type": "stream",
     "text": [
      "0\n",
      "1000\n",
      "2000\n",
      "3000\n",
      "4000\n",
      "5000\n",
      "6000\n",
      "7000\n",
      "8000\n",
      "9000\n",
      "10000\n",
      "11000\n",
      "12000\n",
      "13000\n",
      "14000\n",
      "15000\n",
      "16000\n",
      "17000\n",
      "18000\n",
      "19000\n",
      "20000\n",
      "21000\n",
      "22000\n",
      "23000\n",
      "24000\n",
      "25000\n",
      "26000\n",
      "27000\n",
      "28000\n",
      "29000\n",
      "30000\n",
      "31000\n",
      "32000\n",
      "33000\n",
      "34000\n",
      "35000\n",
      "36000\n",
      "37000\n",
      "38000\n",
      "39000\n",
      "40000\n",
      "41000\n",
      "42000\n",
      "43000\n",
      "44000\n",
      "45000\n",
      "46000\n",
      "47000\n",
      "48000\n",
      "49000\n",
      "50000\n",
      "51000\n",
      "52000\n",
      "53000\n",
      "54000\n",
      "55000\n",
      "56000\n",
      "57000\n",
      "58000\n",
      "59000\n",
      "60000\n",
      "61000\n",
      "62000\n",
      "63000\n",
      "64000\n",
      "65000\n",
      "66000\n",
      "67000\n",
      "68000\n",
      "69000\n",
      "70000\n",
      "71000\n",
      "72000\n",
      "73000\n",
      "74000\n",
      "75000\n",
      "76000\n",
      "77000\n",
      "78000\n",
      "79000\n",
      "80000\n",
      "81000\n",
      "82000\n",
      "83000\n",
      "84000\n",
      "85000\n",
      "86000\n",
      "87000\n",
      "88000\n",
      "89000\n",
      "90000\n",
      "91000\n",
      "92000\n",
      "93000\n",
      "94000\n",
      "95000\n"
     ]
    }
   ],
   "source": [
    "# Train the Q-learning model on the sample training data\n",
    "for _, row in sample_train_ratings.iterrows():\n",
    "    user, book, rating = int(row['user_id']), int(row['book_id']), int(row['rating'])\n",
    "    reward = 1 if rating >= 4 else -1  # Assuming a rating of 4 or 5 is positive, else negative\n",
    "    next_books = recommend_book(user)\n",
    "    for next_book in next_books:\n",
    "        q_learning(user, book, reward, next_book)"
   ]
  },
  {
   "cell_type": "code",
   "execution_count": 29,
   "metadata": {},
   "outputs": [],
   "source": [
    "# Apply the model to the entire dataset\n",
    "all_users = ratings['user_id'].unique()\n",
    "recommendations = {}\n",
    "\n",
    "for user in all_users:\n",
    "    recommended_book_ids = recommend_book(user)\n",
    "    recommendations[user] = recommended_book_ids\n",
    "\n",
    "    "
   ]
  },
  {
   "cell_type": "markdown",
   "metadata": {},
   "source": [
    "#### With Wish-list"
   ]
  },
  {
   "cell_type": "code",
   "execution_count": 74,
   "metadata": {},
   "outputs": [],
   "source": [
    "# Застосуємо нову функцію рекомендацій для всіх користувачів\n",
    "recommendations_with_to_read = {}\n",
    "for user in all_users:\n",
    "    recommended_book_ids = recommend_book_with_to_read(user)\n",
    "    recommendations_with_to_read[user] = recommended_book_ids"
   ]
  },
  {
   "cell_type": "code",
   "execution_count": 76,
   "metadata": {},
   "outputs": [
    {
     "name": "stdout",
     "output_type": "stream",
     "text": [
      "Mean HR@10: 0.0917\n",
      "Mean NDCG@10: 0.0610\n"
     ]
    }
   ],
   "source": [
    "test_users = test_ratings['user_id'].unique()\n",
    "hr_values = []\n",
    "ndcg_values = []\n",
    "\n",
    "for user in test_users:\n",
    "    true_books = test_ratings[test_ratings['user_id'] == user]['book_id'].tolist()\n",
    "    recommended_books = recommendations_with_to_read.get(user, [])\n",
    "    hr_values.append(hit_rate_at_k(recommended_books, true_books))\n",
    "    ndcg_values.append(ndcg_at_k(recommended_books, true_books))\n",
    "\n",
    "mean_hr = np.mean(hr_values)\n",
    "mean_ndcg = np.mean(ndcg_values)\n",
    "print(f'Mean HR@10: {mean_hr:.4f}')\n",
    "print(f'Mean NDCG@10: {mean_ndcg:.4f}')"
   ]
  },
  {
   "cell_type": "markdown",
   "metadata": {},
   "source": [
    "### Evaluations"
   ]
  },
  {
   "cell_type": "code",
   "execution_count": 75,
   "metadata": {},
   "outputs": [],
   "source": [
    "# Evaluation metrics: HR@K and NDCG@K\n",
    "def hit_rate_at_k(recommended_items, true_items, k=10):\n",
    "    return int(bool(set(recommended_items[:k]) & set(true_items)))\n",
    "\n",
    "def ndcg_at_k(recommended_items, true_items, k=10):\n",
    "    if not bool(set(recommended_items[:k]) & set(true_items)):\n",
    "        return 0\n",
    "    gains = [int(item in true_items) / np.log2(i + 2) for i, item in enumerate(recommended_items[:k])]\n",
    "    return np.sum(gains)"
   ]
  },
  {
   "cell_type": "code",
   "execution_count": 46,
   "metadata": {},
   "outputs": [
    {
     "name": "stdout",
     "output_type": "stream",
     "text": [
      "Mean HR@10: 0.1088\n",
      "Mean NDCG@10: 0.0673\n"
     ]
    }
   ],
   "source": [
    "test_users = test_ratings['user_id'].unique()\n",
    "hr_values = []\n",
    "ndcg_values = []\n",
    "\n",
    "for user in test_users:\n",
    "    true_books = test_ratings[test_ratings['user_id'] == user]['book_id'].tolist()\n",
    "    recommended_books = recommendations.get(user, [])\n",
    "    hr_values.append(hit_rate_at_k(recommended_books, true_books))\n",
    "    ndcg_values.append(ndcg_at_k(recommended_books, true_books))\n",
    "\n",
    "mean_hr = np.mean(hr_values)\n",
    "mean_ndcg = np.mean(ndcg_values)\n",
    "print(f'Mean HR@10: {mean_hr:.4f}')\n",
    "print(f'Mean NDCG@10: {mean_ndcg:.4f}')"
   ]
  },
  {
   "cell_type": "code",
   "execution_count": 52,
   "metadata": {},
   "outputs": [],
   "source": [
    "hr_values = []\n",
    "ndcg_values = []\n",
    "\n",
    "for user in test_users:\n",
    "    true_books = test_ratings[test_ratings['user_id'] == user]['book_id'].tolist()\n",
    "    recommended_books = recommendations.get(user, [])\n",
    "    hr_values.append(hit_rate_at_k(recommended_books, true_books,5))\n",
    "    ndcg_values.append(ndcg_at_k(recommended_books, true_books,5))\n",
    "\n",
    "mean_hr = np.mean(hr_values)\n",
    "mean_ndcg = np.mean(ndcg_values)"
   ]
  },
  {
   "cell_type": "code",
   "execution_count": 53,
   "metadata": {},
   "outputs": [
    {
     "name": "stdout",
     "output_type": "stream",
     "text": [
      "Mean HR@10: 0.0599\n",
      "Mean NDCG@10: 0.0437\n"
     ]
    }
   ],
   "source": [
    "print(f'Mean HR@5: {mean_hr:.4f}')\n",
    "print(f'Mean NDCG@5: {mean_ndcg:.4f}')"
   ]
  },
  {
   "cell_type": "markdown",
   "metadata": {},
   "source": [
    "### Practice"
   ]
  },
  {
   "cell_type": "code",
   "execution_count": 69,
   "metadata": {},
   "outputs": [
    {
     "data": {
      "text/html": [
       "<div>\n",
       "<style scoped>\n",
       "    .dataframe tbody tr th:only-of-type {\n",
       "        vertical-align: middle;\n",
       "    }\n",
       "\n",
       "    .dataframe tbody tr th {\n",
       "        vertical-align: top;\n",
       "    }\n",
       "\n",
       "    .dataframe thead th {\n",
       "        text-align: right;\n",
       "    }\n",
       "</style>\n",
       "<table border=\"1\" class=\"dataframe\">\n",
       "  <thead>\n",
       "    <tr style=\"text-align: right;\">\n",
       "      <th></th>\n",
       "      <th>book_id</th>\n",
       "      <th>isbn</th>\n",
       "      <th>title</th>\n",
       "      <th>authors</th>\n",
       "      <th>original_publication_year</th>\n",
       "    </tr>\n",
       "  </thead>\n",
       "  <tbody>\n",
       "    <tr>\n",
       "      <th>1</th>\n",
       "      <td>2</td>\n",
       "      <td>439554934</td>\n",
       "      <td>Harry Potter and the Sorcerer's Stone (Harry P...</td>\n",
       "      <td>J.K. Rowling, Mary GrandPré</td>\n",
       "      <td>1997.0</td>\n",
       "    </tr>\n",
       "    <tr>\n",
       "      <th>3</th>\n",
       "      <td>4</td>\n",
       "      <td>61120081</td>\n",
       "      <td>To Kill a Mockingbird</td>\n",
       "      <td>Harper Lee</td>\n",
       "      <td>1960.0</td>\n",
       "    </tr>\n",
       "    <tr>\n",
       "      <th>8</th>\n",
       "      <td>9</td>\n",
       "      <td>1416524797</td>\n",
       "      <td>Angels &amp; Demons  (Robert Langdon, #1)</td>\n",
       "      <td>Dan Brown</td>\n",
       "      <td>2000.0</td>\n",
       "    </tr>\n",
       "    <tr>\n",
       "      <th>17</th>\n",
       "      <td>18</td>\n",
       "      <td>043965548X</td>\n",
       "      <td>Harry Potter and the Prisoner of Azkaban (Harr...</td>\n",
       "      <td>J.K. Rowling, Mary GrandPré, Rufus Beck</td>\n",
       "      <td>1999.0</td>\n",
       "    </tr>\n",
       "    <tr>\n",
       "      <th>20</th>\n",
       "      <td>21</td>\n",
       "      <td>439358078</td>\n",
       "      <td>Harry Potter and the Order of the Phoenix (Har...</td>\n",
       "      <td>J.K. Rowling, Mary GrandPré</td>\n",
       "      <td>2003.0</td>\n",
       "    </tr>\n",
       "    <tr>\n",
       "      <th>...</th>\n",
       "      <td>...</td>\n",
       "      <td>...</td>\n",
       "      <td>...</td>\n",
       "      <td>...</td>\n",
       "      <td>...</td>\n",
       "    </tr>\n",
       "    <tr>\n",
       "      <th>7046</th>\n",
       "      <td>7047</td>\n",
       "      <td>747236380</td>\n",
       "      <td>The Servants of Twilight</td>\n",
       "      <td>Leigh Nichols, Dean Koontz</td>\n",
       "      <td>1984.0</td>\n",
       "    </tr>\n",
       "    <tr>\n",
       "      <th>7863</th>\n",
       "      <td>7864</td>\n",
       "      <td>553574132</td>\n",
       "      <td>Shadows of the Empire (Star Wars)</td>\n",
       "      <td>Steve Perry</td>\n",
       "      <td>1996.0</td>\n",
       "    </tr>\n",
       "    <tr>\n",
       "      <th>8221</th>\n",
       "      <td>8222</td>\n",
       "      <td>553100351</td>\n",
       "      <td>Vision of the Future (Star Wars: The Hand of T...</td>\n",
       "      <td>Timothy Zahn</td>\n",
       "      <td>1998.0</td>\n",
       "    </tr>\n",
       "    <tr>\n",
       "      <th>8782</th>\n",
       "      <td>8783</td>\n",
       "      <td>553297988</td>\n",
       "      <td>Jedi Search (Star Wars: The Jedi Academy Trilo...</td>\n",
       "      <td>Kevin J. Anderson</td>\n",
       "      <td>1994.0</td>\n",
       "    </tr>\n",
       "    <tr>\n",
       "      <th>9813</th>\n",
       "      <td>9814</td>\n",
       "      <td>055329802X</td>\n",
       "      <td>Champions of the Force (Star Wars: The Jedi Ac...</td>\n",
       "      <td>Kevin J. Anderson</td>\n",
       "      <td>1994.0</td>\n",
       "    </tr>\n",
       "  </tbody>\n",
       "</table>\n",
       "<p>98 rows × 5 columns</p>\n",
       "</div>"
      ],
      "text/plain": [
       "      book_id        isbn                                              title  \\\n",
       "1           2   439554934  Harry Potter and the Sorcerer's Stone (Harry P...   \n",
       "3           4    61120081                              To Kill a Mockingbird   \n",
       "8           9  1416524797              Angels & Demons  (Robert Langdon, #1)   \n",
       "17         18  043965548X  Harry Potter and the Prisoner of Azkaban (Harr...   \n",
       "20         21   439358078  Harry Potter and the Order of the Phoenix (Har...   \n",
       "...       ...         ...                                                ...   \n",
       "7046     7047   747236380                           The Servants of Twilight   \n",
       "7863     7864   553574132                  Shadows of the Empire (Star Wars)   \n",
       "8221     8222   553100351  Vision of the Future (Star Wars: The Hand of T...   \n",
       "8782     8783   553297988  Jedi Search (Star Wars: The Jedi Academy Trilo...   \n",
       "9813     9814  055329802X  Champions of the Force (Star Wars: The Jedi Ac...   \n",
       "\n",
       "                                      authors  original_publication_year  \n",
       "1                 J.K. Rowling, Mary GrandPré                     1997.0  \n",
       "3                                  Harper Lee                     1960.0  \n",
       "8                                   Dan Brown                     2000.0  \n",
       "17    J.K. Rowling, Mary GrandPré, Rufus Beck                     1999.0  \n",
       "20                J.K. Rowling, Mary GrandPré                     2003.0  \n",
       "...                                       ...                        ...  \n",
       "7046               Leigh Nichols, Dean Koontz                     1984.0  \n",
       "7863                              Steve Perry                     1996.0  \n",
       "8221                             Timothy Zahn                     1998.0  \n",
       "8782                        Kevin J. Anderson                     1994.0  \n",
       "9813                        Kevin J. Anderson                     1994.0  \n",
       "\n",
       "[98 rows x 5 columns]"
      ]
     },
     "execution_count": 69,
     "metadata": {},
     "output_type": "execute_result"
    }
   ],
   "source": [
    "book_ids_rated_by_user = ratings[ratings['user_id'] == 5678]['book_id']\n",
    "books_rated_by_user = books[books['book_id'].isin(book_ids_rated_by_user)]\n",
    "books_rated_by_user[['book_id', 'isbn', 'title', 'authors', 'original_publication_year']]"
   ]
  },
  {
   "cell_type": "code",
   "execution_count": 56,
   "metadata": {},
   "outputs": [
    {
     "name": "stdout",
     "output_type": "stream",
     "text": [
      "Recommended book for user 30753: 3324    Men at Arms: The Play\n",
      "Name: title, dtype: object\n"
     ]
    }
   ],
   "source": [
    "# Recommend a book for a user\n",
    "def recommend_book(user):\n",
    "    cluster = ratings[ratings['user_id'] == user]['cluster'].iloc[0]\n",
    "    user_books = ratings[ratings['user_id'] == user]['book_id'].tolist()\n",
    "    max_values = np.max(Q_tables[cluster][user_books, :], axis=0)\n",
    "    recommended_book = np.argmax(max_values)\n",
    "    return recommended_book\n",
    "\n",
    "# Example of getting a recommendation\n",
    "recommended_book_id = recommend_book(5678)\n",
    "print('Recommended book for user {}:'.format(user), books[books['book_id'] == recommended_book_id]['title'])"
   ]
  },
  {
   "cell_type": "markdown",
   "metadata": {},
   "source": [
    "# DBSCAN + DQN"
   ]
  },
  {
   "cell_type": "markdown",
   "metadata": {},
   "source": [
    "## DBSCAN"
   ]
  },
  {
   "cell_type": "code",
   "execution_count": 5,
   "metadata": {},
   "outputs": [],
   "source": [
    "sample_size = 0.005\n",
    "# Split data into training and test sets\n",
    "train_ratings, test_ratings = train_test_split(ratings, test_size=0.2, random_state=42)\n",
    "sample_train_ratings = train_ratings.sample(frac=sample_size, random_state=42)"
   ]
  },
  {
   "cell_type": "code",
   "execution_count": 6,
   "metadata": {},
   "outputs": [
    {
     "data": {
      "text/html": [
       "<div>\n",
       "<style scoped>\n",
       "    .dataframe tbody tr th:only-of-type {\n",
       "        vertical-align: middle;\n",
       "    }\n",
       "\n",
       "    .dataframe tbody tr th {\n",
       "        vertical-align: top;\n",
       "    }\n",
       "\n",
       "    .dataframe thead th {\n",
       "        text-align: right;\n",
       "    }\n",
       "</style>\n",
       "<table border=\"1\" class=\"dataframe\">\n",
       "  <thead>\n",
       "    <tr style=\"text-align: right;\">\n",
       "      <th></th>\n",
       "      <th>user_id</th>\n",
       "      <th>book_id</th>\n",
       "      <th>rating</th>\n",
       "    </tr>\n",
       "  </thead>\n",
       "  <tbody>\n",
       "    <tr>\n",
       "      <th>4116960</th>\n",
       "      <td>35652</td>\n",
       "      <td>939</td>\n",
       "      <td>4</td>\n",
       "    </tr>\n",
       "    <tr>\n",
       "      <th>5464415</th>\n",
       "      <td>5798</td>\n",
       "      <td>5784</td>\n",
       "      <td>4</td>\n",
       "    </tr>\n",
       "    <tr>\n",
       "      <th>437854</th>\n",
       "      <td>8607</td>\n",
       "      <td>194</td>\n",
       "      <td>1</td>\n",
       "    </tr>\n",
       "    <tr>\n",
       "      <th>2352113</th>\n",
       "      <td>30013</td>\n",
       "      <td>993</td>\n",
       "      <td>3</td>\n",
       "    </tr>\n",
       "    <tr>\n",
       "      <th>2202553</th>\n",
       "      <td>16527</td>\n",
       "      <td>6757</td>\n",
       "      <td>4</td>\n",
       "    </tr>\n",
       "    <tr>\n",
       "      <th>...</th>\n",
       "      <td>...</td>\n",
       "      <td>...</td>\n",
       "      <td>...</td>\n",
       "    </tr>\n",
       "    <tr>\n",
       "      <th>3552038</th>\n",
       "      <td>41924</td>\n",
       "      <td>786</td>\n",
       "      <td>5</td>\n",
       "    </tr>\n",
       "    <tr>\n",
       "      <th>5004423</th>\n",
       "      <td>51561</td>\n",
       "      <td>265</td>\n",
       "      <td>5</td>\n",
       "    </tr>\n",
       "    <tr>\n",
       "      <th>3172517</th>\n",
       "      <td>17546</td>\n",
       "      <td>1343</td>\n",
       "      <td>4</td>\n",
       "    </tr>\n",
       "    <tr>\n",
       "      <th>3507927</th>\n",
       "      <td>41556</td>\n",
       "      <td>105</td>\n",
       "      <td>4</td>\n",
       "    </tr>\n",
       "    <tr>\n",
       "      <th>3986525</th>\n",
       "      <td>43942</td>\n",
       "      <td>8760</td>\n",
       "      <td>3</td>\n",
       "    </tr>\n",
       "  </tbody>\n",
       "</table>\n",
       "<p>23906 rows × 3 columns</p>\n",
       "</div>"
      ],
      "text/plain": [
       "         user_id  book_id  rating\n",
       "4116960    35652      939       4\n",
       "5464415     5798     5784       4\n",
       "437854      8607      194       1\n",
       "2352113    30013      993       3\n",
       "2202553    16527     6757       4\n",
       "...          ...      ...     ...\n",
       "3552038    41924      786       5\n",
       "5004423    51561      265       5\n",
       "3172517    17546     1343       4\n",
       "3507927    41556      105       4\n",
       "3986525    43942     8760       3\n",
       "\n",
       "[23906 rows x 3 columns]"
      ]
     },
     "execution_count": 6,
     "metadata": {},
     "output_type": "execute_result"
    }
   ],
   "source": [
    "sample_train_ratings"
   ]
  },
  {
   "cell_type": "code",
   "execution_count": 22,
   "metadata": {},
   "outputs": [],
   "source": [
    "# Створення матриці користувач-книга\n",
    "user_book_matrix = sample_train_ratings.pivot(index='user_id', columns='book_id', values='rating').fillna(0)"
   ]
  },
  {
   "cell_type": "code",
   "execution_count": 24,
   "metadata": {},
   "outputs": [],
   "source": [
    "# Стандартизація даних\n",
    "scaled_data = StandardScaler().fit_transform(user_book_matrix)"
   ]
  },
  {
   "cell_type": "code",
   "execution_count": 60,
   "metadata": {},
   "outputs": [
    {
     "data": {
      "text/plain": [
       "(53424, 10001)"
      ]
     },
     "execution_count": 60,
     "metadata": {},
     "output_type": "execute_result"
    }
   ],
   "source": [
    "user_book_matrix[:10000].shape"
   ]
  },
  {
   "cell_type": "code",
   "execution_count": 62,
   "metadata": {},
   "outputs": [
    {
     "data": {
      "image/png": "[encoded data removed]",
      "text/plain": [
       "<Figure size 1000x500 with 1 Axes>"
      ]
     },
     "metadata": {},
     "output_type": "display_data"
    }
   ],
   "source": [
    "from sklearn.neighbors import NearestNeighbors\n",
    "import matplotlib.pyplot as plt\n",
    "\n",
    "# Assuming you have a data matrix X\n",
    "# Compute the nearest neighbors\n",
    "X = user_book_matrix[:10000]\n",
    "X.columns = X.columns.astype(str)\n",
    "nearest_neighbors = NearestNeighbors(n_neighbors=2)\n",
    "neighbors = nearest_neighbors.fit(X)\n",
    "distances, indices = neighbors.kneighbors(X)\n",
    "\n",
    "# Sort the distances\n",
    "distances = sorted(distances[:, 1], reverse=True)\n"
   ]
  },
  {
   "cell_type": "code",
   "execution_count": 81,
   "metadata": {},
   "outputs": [
    {
     "data": {
      "text/plain": [
       "array([[   0, 9255],\n",
       "       [   1, 2160],\n",
       "       [   2, 9255],\n",
       "       ...,\n",
       "       [9997, 7932],\n",
       "       [9998, 7279],\n",
       "       [9999, 9255]], dtype=int64)"
      ]
     },
     "execution_count": 81,
     "metadata": {},
     "output_type": "execute_result"
    }
   ],
   "source": [
    "indices"
   ]
  },
  {
   "cell_type": "code",
   "execution_count": 83,
   "metadata": {},
   "outputs": [],
   "source": [
    "%matplotlib inline"
   ]
  },
  {
   "cell_type": "code",
   "execution_count": 88,
   "metadata": {},
   "outputs": [
    {
     "data": {
      "image/png": "[encoded data removed]",
      "text/plain": [
       "<Figure size 2100x900 with 1 Axes>"
      ]
     },
     "metadata": {},
     "output_type": "display_data"
    }
   ],
   "source": [
    "# Побудова графіку\n",
    "plt.figure(figsize=(21,9))\n",
    "plt.plot(distances, marker='o', linestyle='--', color='b')\n",
    "# plt.scatter(7, inertia[6], color='red', s=100, zorder=5)\n",
    "plt.xlabel('Distance')\n",
    "plt.ylabel('Eps 1e10')\n",
    "plt.title('Elbow Method For Optimal Number of Eps')\n",
    "plt.grid(True, which='both', linestyle='--', linewidth=0.5)\n",
    "plt.xticks(distances)  # Set x-axis ticks to be integers for better clarity\n",
    "plt.tight_layout()  # Adjust layout for better appearance\n",
    "plt.savefig('my_plot.png')\n",
    "plt.show()"
   ]
  },
  {
   "cell_type": "code",
   "execution_count": 85,
   "metadata": {},
   "outputs": [
    {
     "data": {
      "text/plain": [
       "<Figure size 640x480 with 0 Axes>"
      ]
     },
     "metadata": {},
     "output_type": "display_data"
    }
   ],
   "source": []
  },
  {
   "cell_type": "code",
   "execution_count": 30,
   "metadata": {},
   "outputs": [
    {
     "ename": "KeyboardInterrupt",
     "evalue": "",
     "output_type": "error",
     "traceback": [
      "\u001b[1;31m---------------------------------------------------------------------------\u001b[0m",
      "\u001b[1;31mKeyboardInterrupt\u001b[0m                         Traceback (most recent call last)",
      "\u001b[1;32mh:\\Documents\\11\\MKR\\Approaches.ipynb Cell 58\u001b[0m line \u001b[0;36m3\n\u001b[0;32m      <a href='vscode-notebook-cell:/h%3A/Documents/11/MKR/Approaches.ipynb#Y102sZmlsZQ%3D%3D?line=0'>1</a>\u001b[0m \u001b[39m# Застосування DBSCAN\u001b[39;00m\n\u001b[0;32m      <a href='vscode-notebook-cell:/h%3A/Documents/11/MKR/Approaches.ipynb#Y102sZmlsZQ%3D%3D?line=1'>2</a>\u001b[0m \u001b[39mfrom\u001b[39;00m \u001b[39msklearn\u001b[39;00m\u001b[39m.\u001b[39;00m\u001b[39mcluster\u001b[39;00m \u001b[39mimport\u001b[39;00m OPTICS\n\u001b[1;32m----> <a href='vscode-notebook-cell:/h%3A/Documents/11/MKR/Approaches.ipynb#Y102sZmlsZQ%3D%3D?line=2'>3</a>\u001b[0m db \u001b[39m=\u001b[39m OPTICS(min_samples\u001b[39m=\u001b[39;49m\u001b[39m4\u001b[39;49m)\u001b[39m.\u001b[39;49mfit(scaled_data)\n\u001b[0;32m      <a href='vscode-notebook-cell:/h%3A/Documents/11/MKR/Approaches.ipynb#Y102sZmlsZQ%3D%3D?line=3'>4</a>\u001b[0m labels \u001b[39m=\u001b[39m db\u001b[39m.\u001b[39mlabels_\n",
      "File \u001b[1;32m~\\AppData\\Roaming\\Python\\Python311\\site-packages\\sklearn\\base.py:1152\u001b[0m, in \u001b[0;36m_fit_context.<locals>.decorator.<locals>.wrapper\u001b[1;34m(estimator, *args, **kwargs)\u001b[0m\n\u001b[0;32m   1145\u001b[0m     estimator\u001b[39m.\u001b[39m_validate_params()\n\u001b[0;32m   1147\u001b[0m \u001b[39mwith\u001b[39;00m config_context(\n\u001b[0;32m   1148\u001b[0m     skip_parameter_validation\u001b[39m=\u001b[39m(\n\u001b[0;32m   1149\u001b[0m         prefer_skip_nested_validation \u001b[39mor\u001b[39;00m global_skip_validation\n\u001b[0;32m   1150\u001b[0m     )\n\u001b[0;32m   1151\u001b[0m ):\n\u001b[1;32m-> 1152\u001b[0m     \u001b[39mreturn\u001b[39;00m fit_method(estimator, \u001b[39m*\u001b[39;49margs, \u001b[39m*\u001b[39;49m\u001b[39m*\u001b[39;49mkwargs)\n",
      "File \u001b[1;32m~\\AppData\\Roaming\\Python\\Python311\\site-packages\\sklearn\\cluster\\_optics.py:348\u001b[0m, in \u001b[0;36mOPTICS.fit\u001b[1;34m(self, X, y)\u001b[0m\n\u001b[0;32m    340\u001b[0m         X\u001b[39m.\u001b[39msetdiag(X\u001b[39m.\u001b[39mdiagonal())\n\u001b[0;32m    341\u001b[0m memory \u001b[39m=\u001b[39m check_memory(\u001b[39mself\u001b[39m\u001b[39m.\u001b[39mmemory)\n\u001b[0;32m    343\u001b[0m (\n\u001b[0;32m    344\u001b[0m     \u001b[39mself\u001b[39m\u001b[39m.\u001b[39mordering_,\n\u001b[0;32m    345\u001b[0m     \u001b[39mself\u001b[39m\u001b[39m.\u001b[39mcore_distances_,\n\u001b[0;32m    346\u001b[0m     \u001b[39mself\u001b[39m\u001b[39m.\u001b[39mreachability_,\n\u001b[0;32m    347\u001b[0m     \u001b[39mself\u001b[39m\u001b[39m.\u001b[39mpredecessor_,\n\u001b[1;32m--> 348\u001b[0m ) \u001b[39m=\u001b[39m memory\u001b[39m.\u001b[39;49mcache(compute_optics_graph)(\n\u001b[0;32m    349\u001b[0m     X\u001b[39m=\u001b[39;49mX,\n\u001b[0;32m    350\u001b[0m     min_samples\u001b[39m=\u001b[39;49m\u001b[39mself\u001b[39;49m\u001b[39m.\u001b[39;49mmin_samples,\n\u001b[0;32m    351\u001b[0m     algorithm\u001b[39m=\u001b[39;49m\u001b[39mself\u001b[39;49m\u001b[39m.\u001b[39;49malgorithm,\n\u001b[0;32m    352\u001b[0m     leaf_size\u001b[39m=\u001b[39;49m\u001b[39mself\u001b[39;49m\u001b[39m.\u001b[39;49mleaf_size,\n\u001b[0;32m    353\u001b[0m     metric\u001b[39m=\u001b[39;49m\u001b[39mself\u001b[39;49m\u001b[39m.\u001b[39;49mmetric,\n\u001b[0;32m    354\u001b[0m     metric_params\u001b[39m=\u001b[39;49m\u001b[39mself\u001b[39;49m\u001b[39m.\u001b[39;49mmetric_params,\n\u001b[0;32m    355\u001b[0m     p\u001b[39m=\u001b[39;49m\u001b[39mself\u001b[39;49m\u001b[39m.\u001b[39;49mp,\n\u001b[0;32m    356\u001b[0m     n_jobs\u001b[39m=\u001b[39;49m\u001b[39mself\u001b[39;49m\u001b[39m.\u001b[39;49mn_jobs,\n\u001b[0;32m    357\u001b[0m     max_eps\u001b[39m=\u001b[39;49m\u001b[39mself\u001b[39;49m\u001b[39m.\u001b[39;49mmax_eps,\n\u001b[0;32m    358\u001b[0m )\n\u001b[0;32m    360\u001b[0m \u001b[39m# Extract clusters from the calculated orders and reachability\u001b[39;00m\n\u001b[0;32m    361\u001b[0m \u001b[39mif\u001b[39;00m \u001b[39mself\u001b[39m\u001b[39m.\u001b[39mcluster_method \u001b[39m==\u001b[39m \u001b[39m\"\u001b[39m\u001b[39mxi\u001b[39m\u001b[39m\"\u001b[39m:\n",
      "File \u001b[1;32m~\\AppData\\Roaming\\Python\\Python311\\site-packages\\joblib\\memory.py:353\u001b[0m, in \u001b[0;36mNotMemorizedFunc.__call__\u001b[1;34m(self, *args, **kwargs)\u001b[0m\n\u001b[0;32m    352\u001b[0m \u001b[39mdef\u001b[39;00m \u001b[39m__call__\u001b[39m(\u001b[39mself\u001b[39m, \u001b[39m*\u001b[39margs, \u001b[39m*\u001b[39m\u001b[39m*\u001b[39mkwargs):\n\u001b[1;32m--> 353\u001b[0m     \u001b[39mreturn\u001b[39;00m \u001b[39mself\u001b[39;49m\u001b[39m.\u001b[39;49mfunc(\u001b[39m*\u001b[39;49margs, \u001b[39m*\u001b[39;49m\u001b[39m*\u001b[39;49mkwargs)\n",
      "File \u001b[1;32m~\\AppData\\Roaming\\Python\\Python311\\site-packages\\sklearn\\utils\\_param_validation.py:211\u001b[0m, in \u001b[0;36mvalidate_params.<locals>.decorator.<locals>.wrapper\u001b[1;34m(*args, **kwargs)\u001b[0m\n\u001b[0;32m    205\u001b[0m \u001b[39mtry\u001b[39;00m:\n\u001b[0;32m    206\u001b[0m     \u001b[39mwith\u001b[39;00m config_context(\n\u001b[0;32m    207\u001b[0m         skip_parameter_validation\u001b[39m=\u001b[39m(\n\u001b[0;32m    208\u001b[0m             prefer_skip_nested_validation \u001b[39mor\u001b[39;00m global_skip_validation\n\u001b[0;32m    209\u001b[0m         )\n\u001b[0;32m    210\u001b[0m     ):\n\u001b[1;32m--> 211\u001b[0m         \u001b[39mreturn\u001b[39;00m func(\u001b[39m*\u001b[39;49margs, \u001b[39m*\u001b[39;49m\u001b[39m*\u001b[39;49mkwargs)\n\u001b[0;32m    212\u001b[0m \u001b[39mexcept\u001b[39;00m InvalidParameterError \u001b[39mas\u001b[39;00m e:\n\u001b[0;32m    213\u001b[0m     \u001b[39m# When the function is just a wrapper around an estimator, we allow\u001b[39;00m\n\u001b[0;32m    214\u001b[0m     \u001b[39m# the function to delegate validation to the estimator, but we replace\u001b[39;00m\n\u001b[0;32m    215\u001b[0m     \u001b[39m# the name of the estimator by the name of the function in the error\u001b[39;00m\n\u001b[0;32m    216\u001b[0m     \u001b[39m# message to avoid confusion.\u001b[39;00m\n\u001b[0;32m    217\u001b[0m     msg \u001b[39m=\u001b[39m re\u001b[39m.\u001b[39msub(\n\u001b[0;32m    218\u001b[0m         \u001b[39mr\u001b[39m\u001b[39m\"\u001b[39m\u001b[39mparameter of \u001b[39m\u001b[39m\\\u001b[39m\u001b[39mw+ must be\u001b[39m\u001b[39m\"\u001b[39m,\n\u001b[0;32m    219\u001b[0m         \u001b[39mf\u001b[39m\u001b[39m\"\u001b[39m\u001b[39mparameter of \u001b[39m\u001b[39m{\u001b[39;00mfunc\u001b[39m.\u001b[39m\u001b[39m__qualname__\u001b[39m\u001b[39m}\u001b[39;00m\u001b[39m must be\u001b[39m\u001b[39m\"\u001b[39m,\n\u001b[0;32m    220\u001b[0m         \u001b[39mstr\u001b[39m(e),\n\u001b[0;32m    221\u001b[0m     )\n",
      "File \u001b[1;32m~\\AppData\\Roaming\\Python\\Python311\\site-packages\\sklearn\\cluster\\_optics.py:617\u001b[0m, in \u001b[0;36mcompute_optics_graph\u001b[1;34m(X, min_samples, max_eps, metric, p, metric_params, algorithm, leaf_size, n_jobs)\u001b[0m\n\u001b[0;32m    615\u001b[0m     ordering[ordering_idx] \u001b[39m=\u001b[39m point\n\u001b[0;32m    616\u001b[0m     \u001b[39mif\u001b[39;00m core_distances_[point] \u001b[39m!=\u001b[39m np\u001b[39m.\u001b[39minf:\n\u001b[1;32m--> 617\u001b[0m         _set_reach_dist(\n\u001b[0;32m    618\u001b[0m             core_distances_\u001b[39m=\u001b[39;49mcore_distances_,\n\u001b[0;32m    619\u001b[0m             reachability_\u001b[39m=\u001b[39;49mreachability_,\n\u001b[0;32m    620\u001b[0m             predecessor_\u001b[39m=\u001b[39;49mpredecessor_,\n\u001b[0;32m    621\u001b[0m             point_index\u001b[39m=\u001b[39;49mpoint,\n\u001b[0;32m    622\u001b[0m             processed\u001b[39m=\u001b[39;49mprocessed,\n\u001b[0;32m    623\u001b[0m             X\u001b[39m=\u001b[39;49mX,\n\u001b[0;32m    624\u001b[0m             nbrs\u001b[39m=\u001b[39;49mnbrs,\n\u001b[0;32m    625\u001b[0m             metric\u001b[39m=\u001b[39;49mmetric,\n\u001b[0;32m    626\u001b[0m             metric_params\u001b[39m=\u001b[39;49mmetric_params,\n\u001b[0;32m    627\u001b[0m             p\u001b[39m=\u001b[39;49mp,\n\u001b[0;32m    628\u001b[0m             max_eps\u001b[39m=\u001b[39;49mmax_eps,\n\u001b[0;32m    629\u001b[0m         )\n\u001b[0;32m    630\u001b[0m \u001b[39mif\u001b[39;00m np\u001b[39m.\u001b[39mall(np\u001b[39m.\u001b[39misinf(reachability_)):\n\u001b[0;32m    631\u001b[0m     warnings\u001b[39m.\u001b[39mwarn(\n\u001b[0;32m    632\u001b[0m         (\n\u001b[0;32m    633\u001b[0m             \u001b[39m\"\u001b[39m\u001b[39mAll reachability values are inf. Set a larger\u001b[39m\u001b[39m\"\u001b[39m\n\u001b[1;32m   (...)\u001b[0m\n\u001b[0;32m    636\u001b[0m         \u001b[39mUserWarning\u001b[39;00m,\n\u001b[0;32m    637\u001b[0m     )\n",
      "File \u001b[1;32m~\\AppData\\Roaming\\Python\\Python311\\site-packages\\sklearn\\cluster\\_optics.py:678\u001b[0m, in \u001b[0;36m_set_reach_dist\u001b[1;34m(core_distances_, reachability_, predecessor_, point_index, processed, X, nbrs, metric, metric_params, p, max_eps)\u001b[0m\n\u001b[0;32m    674\u001b[0m     \u001b[39mif\u001b[39;00m metric \u001b[39m==\u001b[39m \u001b[39m\"\u001b[39m\u001b[39mminkowski\u001b[39m\u001b[39m\"\u001b[39m \u001b[39mand\u001b[39;00m \u001b[39m\"\u001b[39m\u001b[39mp\u001b[39m\u001b[39m\"\u001b[39m \u001b[39mnot\u001b[39;00m \u001b[39min\u001b[39;00m _params:\n\u001b[0;32m    675\u001b[0m         \u001b[39m# the same logic as neighbors, p is ignored if explicitly set\u001b[39;00m\n\u001b[0;32m    676\u001b[0m         \u001b[39m# in the dict params\u001b[39;00m\n\u001b[0;32m    677\u001b[0m         _params[\u001b[39m\"\u001b[39m\u001b[39mp\u001b[39m\u001b[39m\"\u001b[39m] \u001b[39m=\u001b[39m p\n\u001b[1;32m--> 678\u001b[0m     dists \u001b[39m=\u001b[39m pairwise_distances(P, X[unproc], metric, n_jobs\u001b[39m=\u001b[39m\u001b[39mNone\u001b[39;00m, \u001b[39m*\u001b[39m\u001b[39m*\u001b[39m_params)\u001b[39m.\u001b[39mravel()\n\u001b[0;32m    680\u001b[0m rdists \u001b[39m=\u001b[39m np\u001b[39m.\u001b[39mmaximum(dists, core_distances_[point_index])\n\u001b[0;32m    681\u001b[0m np\u001b[39m.\u001b[39maround(rdists, decimals\u001b[39m=\u001b[39mnp\u001b[39m.\u001b[39mfinfo(rdists\u001b[39m.\u001b[39mdtype)\u001b[39m.\u001b[39mprecision, out\u001b[39m=\u001b[39mrdists)\n",
      "\u001b[1;31mKeyboardInterrupt\u001b[0m: "
     ]
    }
   ],
   "source": [
    "# Застосування DBSCAN\n",
    "from sklearn.cluster import OPTICS\n",
    "db = OPTICS(min_samples=4).fit(scaled_data)\n",
    "labels = db.labels_\n"
   ]
  },
  {
   "cell_type": "code",
   "execution_count": 60,
   "metadata": {},
   "outputs": [],
   "source": [
    "# Додавання результатів кластеризації до даних\n",
    "user_book_matrix['cluster'] = clusters"
   ]
  },
  {
   "cell_type": "code",
   "execution_count": 61,
   "metadata": {},
   "outputs": [
    {
     "name": "stdout",
     "output_type": "stream",
     "text": [
      "Total clusters: 7\n",
      "Users in noise cluster: 0\n"
     ]
    }
   ],
   "source": [
    "# Виведення результатів\n",
    "print(f\"Total clusters: {len(set(clusters)) - (1 if -1 in clusters else 0)}\")\n",
    "print(f\"Users in noise cluster: {(clusters == -1).sum()}\")"
   ]
  },
  {
   "cell_type": "code",
   "execution_count": 64,
   "metadata": {},
   "outputs": [],
   "source": [
    "recommendations = {}\n",
    "\n",
    "for user in recommendations:\n",
    "    books_to_add = to_read[to_read['user_id'] == user]['book_id'].tolist()\n",
    "    recommendations[user].extend(books_to_add)\n"
   ]
  },
  {
   "cell_type": "code",
   "execution_count": null,
   "metadata": {},
   "outputs": [],
   "source": []
  },
  {
   "cell_type": "markdown",
   "metadata": {},
   "source": [
    "## DQN"
   ]
  },
  {
   "cell_type": "code",
   "execution_count": 90,
   "metadata": {},
   "outputs": [],
   "source": [
    "import random\n",
    "from sklearn.cluster import OPTICS\n",
    "from sklearn.preprocessing import StandardScaler\n",
    "from keras.models import Sequential\n",
    "from keras.layers import Dense\n",
    "from keras.optimizers import Adam"
   ]
  },
  {
   "cell_type": "code",
   "execution_count": 91,
   "metadata": {},
   "outputs": [],
   "source": [
    "# Створення матриці користувач-книга\n",
    "user_book_matrix = sample_train_ratings.pivot(index='user_id', columns='book_id', values='rating').fillna(0)"
   ]
  },
  {
   "cell_type": "code",
   "execution_count": 92,
   "metadata": {},
   "outputs": [
    {
     "name": "stderr",
     "output_type": "stream",
     "text": [
      "WARNING:absl:`lr` is deprecated in Keras optimizer, please use `learning_rate` or use the legacy optimizer, e.g.,tf.keras.optimizers.legacy.Adam.\n"
     ]
    }
   ],
   "source": [
    "state_size = len(user_book_matrix.columns)\n",
    "action_size = len(user_book_matrix.columns) - 1  # виключаючи колонку 'cluster'\n",
    "batch_size = 64\n",
    "n_episodes = 100\n",
    "\n",
    "# Модель DQN\n",
    "model = Sequential()\n",
    "model.add(Dense(24, input_dim=state_size, activation='relu'))\n",
    "model.add(Dense(24, activation='relu'))\n",
    "model.add(Dense(action_size, activation='linear'))\n",
    "model.compile(loss='mse', optimizer=Adam(lr=0.001))\n",
    "\n",
    "# Функція для вибору дії на основі кластера користувача\n",
    "def choose_action(state, user_cluster):\n",
    "    if np.random.rand() <= 0.1:\n",
    "        return random.randrange(action_size)\n",
    "    act_values = model.predict(state)\n",
    "    \n",
    "    # Віддаємо перевагу рекомендаціям на основі кластера користувача\n",
    "    cluster_books = user_book_matrix[user_book_matrix['cluster'] == user_cluster].mean().drop('cluster')\n",
    "    act_values = act_values * cluster_books.values\n",
    "    \n",
    "    return np.argmax(act_values[0])\n",
    "\n",
    "# Заглушка для функції навчання DQN\n",
    "def train_dqn():\n",
    "    # Реалізація навчання DQN тут\n",
    "    pass\n",
    "\n",
    "# Примітка: Функція навчання DQN потребує подальшої реалізації на основі конкретного механізму винагороди та даних про взаємодію."
   ]
  },
  {
   "cell_type": "markdown",
   "metadata": {},
   "source": [
    "# Agglomerative clustering + Actor-Critic"
   ]
  },
  {
   "cell_type": "code",
   "execution_count": 4,
   "metadata": {},
   "outputs": [],
   "source": [
    "from sklearn.cluster import AgglomerativeClustering\n",
    "from sklearn.preprocessing import StandardScaler\n",
    "from keras.models import Model\n",
    "from keras.layers import Dense, Input\n",
    "from keras.optimizers import Adam\n",
    "from sklearn.metrics import silhouette_score\n",
    "from scipy.sparse import csr_matrix"
   ]
  },
  {
   "cell_type": "markdown",
   "metadata": {},
   "source": [
    "## Clustering"
   ]
  },
  {
   "cell_type": "code",
   "execution_count": 37,
   "metadata": {},
   "outputs": [],
   "source": [
    "sample_size = 0.005\n",
    "# Split data into training and test sets\n",
    "train_ratings, test_ratings = train_test_split(ratings, test_size=0.2, random_state=42)\n",
    "sample_train_ratings = train_ratings.sample(frac=sample_size, random_state=42)"
   ]
  },
  {
   "cell_type": "code",
   "execution_count": 38,
   "metadata": {},
   "outputs": [
    {
     "data": {
      "text/html": [
       "<div>\n",
       "<style scoped>\n",
       "    .dataframe tbody tr th:only-of-type {\n",
       "        vertical-align: middle;\n",
       "    }\n",
       "\n",
       "    .dataframe tbody tr th {\n",
       "        vertical-align: top;\n",
       "    }\n",
       "\n",
       "    .dataframe thead th {\n",
       "        text-align: right;\n",
       "    }\n",
       "</style>\n",
       "<table border=\"1\" class=\"dataframe\">\n",
       "  <thead>\n",
       "    <tr style=\"text-align: right;\">\n",
       "      <th></th>\n",
       "      <th>user_id</th>\n",
       "      <th>book_id</th>\n",
       "      <th>rating</th>\n",
       "      <th>cluster</th>\n",
       "    </tr>\n",
       "  </thead>\n",
       "  <tbody>\n",
       "    <tr>\n",
       "      <th>4116960</th>\n",
       "      <td>35652</td>\n",
       "      <td>939</td>\n",
       "      <td>4</td>\n",
       "      <td>3</td>\n",
       "    </tr>\n",
       "    <tr>\n",
       "      <th>5464415</th>\n",
       "      <td>5798</td>\n",
       "      <td>5784</td>\n",
       "      <td>4</td>\n",
       "      <td>3</td>\n",
       "    </tr>\n",
       "    <tr>\n",
       "      <th>437854</th>\n",
       "      <td>8607</td>\n",
       "      <td>194</td>\n",
       "      <td>1</td>\n",
       "      <td>5</td>\n",
       "    </tr>\n",
       "    <tr>\n",
       "      <th>2352113</th>\n",
       "      <td>30013</td>\n",
       "      <td>993</td>\n",
       "      <td>3</td>\n",
       "      <td>3</td>\n",
       "    </tr>\n",
       "    <tr>\n",
       "      <th>2202553</th>\n",
       "      <td>16527</td>\n",
       "      <td>6757</td>\n",
       "      <td>4</td>\n",
       "      <td>0</td>\n",
       "    </tr>\n",
       "    <tr>\n",
       "      <th>...</th>\n",
       "      <td>...</td>\n",
       "      <td>...</td>\n",
       "      <td>...</td>\n",
       "      <td>...</td>\n",
       "    </tr>\n",
       "    <tr>\n",
       "      <th>3552038</th>\n",
       "      <td>41924</td>\n",
       "      <td>786</td>\n",
       "      <td>5</td>\n",
       "      <td>1</td>\n",
       "    </tr>\n",
       "    <tr>\n",
       "      <th>5004423</th>\n",
       "      <td>51561</td>\n",
       "      <td>265</td>\n",
       "      <td>5</td>\n",
       "      <td>5</td>\n",
       "    </tr>\n",
       "    <tr>\n",
       "      <th>3172517</th>\n",
       "      <td>17546</td>\n",
       "      <td>1343</td>\n",
       "      <td>4</td>\n",
       "      <td>4</td>\n",
       "    </tr>\n",
       "    <tr>\n",
       "      <th>3507927</th>\n",
       "      <td>41556</td>\n",
       "      <td>105</td>\n",
       "      <td>4</td>\n",
       "      <td>0</td>\n",
       "    </tr>\n",
       "    <tr>\n",
       "      <th>3986525</th>\n",
       "      <td>43942</td>\n",
       "      <td>8760</td>\n",
       "      <td>3</td>\n",
       "      <td>5</td>\n",
       "    </tr>\n",
       "  </tbody>\n",
       "</table>\n",
       "<p>23906 rows × 4 columns</p>\n",
       "</div>"
      ],
      "text/plain": [
       "         user_id  book_id  rating  cluster\n",
       "4116960    35652      939       4        3\n",
       "5464415     5798     5784       4        3\n",
       "437854      8607      194       1        5\n",
       "2352113    30013      993       3        3\n",
       "2202553    16527     6757       4        0\n",
       "...          ...      ...     ...      ...\n",
       "3552038    41924      786       5        1\n",
       "5004423    51561      265       5        5\n",
       "3172517    17546     1343       4        4\n",
       "3507927    41556      105       4        0\n",
       "3986525    43942     8760       3        5\n",
       "\n",
       "[23906 rows x 4 columns]"
      ]
     },
     "execution_count": 38,
     "metadata": {},
     "output_type": "execute_result"
    }
   ],
   "source": [
    "sample_train_ratings"
   ]
  },
  {
   "cell_type": "code",
   "execution_count": 28,
   "metadata": {},
   "outputs": [],
   "source": [
    "user_book_matrix = train_ratings.pivot(index='user_id', columns='book_id', values='rating').fillna(0)"
   ]
  },
  {
   "cell_type": "code",
   "execution_count": 29,
   "metadata": {},
   "outputs": [
    {
     "data": {
      "text/html": [
       "<div>\n",
       "<style scoped>\n",
       "    .dataframe tbody tr th:only-of-type {\n",
       "        vertical-align: middle;\n",
       "    }\n",
       "\n",
       "    .dataframe tbody tr th {\n",
       "        vertical-align: top;\n",
       "    }\n",
       "\n",
       "    .dataframe thead th {\n",
       "        text-align: right;\n",
       "    }\n",
       "</style>\n",
       "<table border=\"1\" class=\"dataframe\">\n",
       "  <thead>\n",
       "    <tr style=\"text-align: right;\">\n",
       "      <th>book_id</th>\n",
       "      <th>1</th>\n",
       "      <th>2</th>\n",
       "      <th>3</th>\n",
       "      <th>4</th>\n",
       "      <th>5</th>\n",
       "      <th>6</th>\n",
       "      <th>7</th>\n",
       "      <th>8</th>\n",
       "      <th>9</th>\n",
       "      <th>10</th>\n",
       "      <th>...</th>\n",
       "      <th>9991</th>\n",
       "      <th>9992</th>\n",
       "      <th>9993</th>\n",
       "      <th>9994</th>\n",
       "      <th>9995</th>\n",
       "      <th>9996</th>\n",
       "      <th>9997</th>\n",
       "      <th>9998</th>\n",
       "      <th>9999</th>\n",
       "      <th>10000</th>\n",
       "    </tr>\n",
       "    <tr>\n",
       "      <th>user_id</th>\n",
       "      <th></th>\n",
       "      <th></th>\n",
       "      <th></th>\n",
       "      <th></th>\n",
       "      <th></th>\n",
       "      <th></th>\n",
       "      <th></th>\n",
       "      <th></th>\n",
       "      <th></th>\n",
       "      <th></th>\n",
       "      <th></th>\n",
       "      <th></th>\n",
       "      <th></th>\n",
       "      <th></th>\n",
       "      <th></th>\n",
       "      <th></th>\n",
       "      <th></th>\n",
       "      <th></th>\n",
       "      <th></th>\n",
       "      <th></th>\n",
       "      <th></th>\n",
       "    </tr>\n",
       "  </thead>\n",
       "  <tbody>\n",
       "    <tr>\n",
       "      <th>1</th>\n",
       "      <td>0.0</td>\n",
       "      <td>0.0</td>\n",
       "      <td>0.0</td>\n",
       "      <td>5.0</td>\n",
       "      <td>0.0</td>\n",
       "      <td>0.0</td>\n",
       "      <td>0.0</td>\n",
       "      <td>0.0</td>\n",
       "      <td>0.0</td>\n",
       "      <td>4.0</td>\n",
       "      <td>...</td>\n",
       "      <td>0.0</td>\n",
       "      <td>0.0</td>\n",
       "      <td>0.0</td>\n",
       "      <td>0.0</td>\n",
       "      <td>0.0</td>\n",
       "      <td>0.0</td>\n",
       "      <td>0.0</td>\n",
       "      <td>0.0</td>\n",
       "      <td>0.0</td>\n",
       "      <td>0.0</td>\n",
       "    </tr>\n",
       "    <tr>\n",
       "      <th>2</th>\n",
       "      <td>0.0</td>\n",
       "      <td>5.0</td>\n",
       "      <td>0.0</td>\n",
       "      <td>0.0</td>\n",
       "      <td>5.0</td>\n",
       "      <td>0.0</td>\n",
       "      <td>0.0</td>\n",
       "      <td>4.0</td>\n",
       "      <td>0.0</td>\n",
       "      <td>5.0</td>\n",
       "      <td>...</td>\n",
       "      <td>0.0</td>\n",
       "      <td>0.0</td>\n",
       "      <td>0.0</td>\n",
       "      <td>0.0</td>\n",
       "      <td>0.0</td>\n",
       "      <td>0.0</td>\n",
       "      <td>0.0</td>\n",
       "      <td>0.0</td>\n",
       "      <td>0.0</td>\n",
       "      <td>0.0</td>\n",
       "    </tr>\n",
       "    <tr>\n",
       "      <th>3</th>\n",
       "      <td>0.0</td>\n",
       "      <td>0.0</td>\n",
       "      <td>0.0</td>\n",
       "      <td>0.0</td>\n",
       "      <td>0.0</td>\n",
       "      <td>0.0</td>\n",
       "      <td>0.0</td>\n",
       "      <td>0.0</td>\n",
       "      <td>0.0</td>\n",
       "      <td>0.0</td>\n",
       "      <td>...</td>\n",
       "      <td>0.0</td>\n",
       "      <td>0.0</td>\n",
       "      <td>0.0</td>\n",
       "      <td>0.0</td>\n",
       "      <td>0.0</td>\n",
       "      <td>0.0</td>\n",
       "      <td>0.0</td>\n",
       "      <td>0.0</td>\n",
       "      <td>0.0</td>\n",
       "      <td>0.0</td>\n",
       "    </tr>\n",
       "    <tr>\n",
       "      <th>4</th>\n",
       "      <td>0.0</td>\n",
       "      <td>5.0</td>\n",
       "      <td>0.0</td>\n",
       "      <td>0.0</td>\n",
       "      <td>4.0</td>\n",
       "      <td>0.0</td>\n",
       "      <td>4.0</td>\n",
       "      <td>4.0</td>\n",
       "      <td>0.0</td>\n",
       "      <td>5.0</td>\n",
       "      <td>...</td>\n",
       "      <td>0.0</td>\n",
       "      <td>0.0</td>\n",
       "      <td>0.0</td>\n",
       "      <td>0.0</td>\n",
       "      <td>0.0</td>\n",
       "      <td>0.0</td>\n",
       "      <td>0.0</td>\n",
       "      <td>0.0</td>\n",
       "      <td>0.0</td>\n",
       "      <td>0.0</td>\n",
       "    </tr>\n",
       "    <tr>\n",
       "      <th>5</th>\n",
       "      <td>0.0</td>\n",
       "      <td>0.0</td>\n",
       "      <td>0.0</td>\n",
       "      <td>0.0</td>\n",
       "      <td>0.0</td>\n",
       "      <td>4.0</td>\n",
       "      <td>0.0</td>\n",
       "      <td>0.0</td>\n",
       "      <td>0.0</td>\n",
       "      <td>0.0</td>\n",
       "      <td>...</td>\n",
       "      <td>0.0</td>\n",
       "      <td>0.0</td>\n",
       "      <td>0.0</td>\n",
       "      <td>0.0</td>\n",
       "      <td>0.0</td>\n",
       "      <td>0.0</td>\n",
       "      <td>0.0</td>\n",
       "      <td>0.0</td>\n",
       "      <td>0.0</td>\n",
       "      <td>0.0</td>\n",
       "    </tr>\n",
       "    <tr>\n",
       "      <th>...</th>\n",
       "      <td>...</td>\n",
       "      <td>...</td>\n",
       "      <td>...</td>\n",
       "      <td>...</td>\n",
       "      <td>...</td>\n",
       "      <td>...</td>\n",
       "      <td>...</td>\n",
       "      <td>...</td>\n",
       "      <td>...</td>\n",
       "      <td>...</td>\n",
       "      <td>...</td>\n",
       "      <td>...</td>\n",
       "      <td>...</td>\n",
       "      <td>...</td>\n",
       "      <td>...</td>\n",
       "      <td>...</td>\n",
       "      <td>...</td>\n",
       "      <td>...</td>\n",
       "      <td>...</td>\n",
       "      <td>...</td>\n",
       "      <td>...</td>\n",
       "    </tr>\n",
       "    <tr>\n",
       "      <th>53420</th>\n",
       "      <td>0.0</td>\n",
       "      <td>5.0</td>\n",
       "      <td>3.0</td>\n",
       "      <td>0.0</td>\n",
       "      <td>2.0</td>\n",
       "      <td>0.0</td>\n",
       "      <td>0.0</td>\n",
       "      <td>0.0</td>\n",
       "      <td>4.0</td>\n",
       "      <td>3.0</td>\n",
       "      <td>...</td>\n",
       "      <td>0.0</td>\n",
       "      <td>0.0</td>\n",
       "      <td>0.0</td>\n",
       "      <td>0.0</td>\n",
       "      <td>0.0</td>\n",
       "      <td>0.0</td>\n",
       "      <td>0.0</td>\n",
       "      <td>0.0</td>\n",
       "      <td>0.0</td>\n",
       "      <td>0.0</td>\n",
       "    </tr>\n",
       "    <tr>\n",
       "      <th>53421</th>\n",
       "      <td>4.0</td>\n",
       "      <td>5.0</td>\n",
       "      <td>0.0</td>\n",
       "      <td>5.0</td>\n",
       "      <td>0.0</td>\n",
       "      <td>0.0</td>\n",
       "      <td>4.0</td>\n",
       "      <td>0.0</td>\n",
       "      <td>5.0</td>\n",
       "      <td>0.0</td>\n",
       "      <td>...</td>\n",
       "      <td>0.0</td>\n",
       "      <td>0.0</td>\n",
       "      <td>0.0</td>\n",
       "      <td>0.0</td>\n",
       "      <td>0.0</td>\n",
       "      <td>0.0</td>\n",
       "      <td>0.0</td>\n",
       "      <td>0.0</td>\n",
       "      <td>0.0</td>\n",
       "      <td>0.0</td>\n",
       "    </tr>\n",
       "    <tr>\n",
       "      <th>53422</th>\n",
       "      <td>4.0</td>\n",
       "      <td>5.0</td>\n",
       "      <td>0.0</td>\n",
       "      <td>0.0</td>\n",
       "      <td>0.0</td>\n",
       "      <td>0.0</td>\n",
       "      <td>5.0</td>\n",
       "      <td>0.0</td>\n",
       "      <td>0.0</td>\n",
       "      <td>5.0</td>\n",
       "      <td>...</td>\n",
       "      <td>0.0</td>\n",
       "      <td>0.0</td>\n",
       "      <td>0.0</td>\n",
       "      <td>0.0</td>\n",
       "      <td>0.0</td>\n",
       "      <td>0.0</td>\n",
       "      <td>0.0</td>\n",
       "      <td>0.0</td>\n",
       "      <td>0.0</td>\n",
       "      <td>0.0</td>\n",
       "    </tr>\n",
       "    <tr>\n",
       "      <th>53423</th>\n",
       "      <td>4.0</td>\n",
       "      <td>5.0</td>\n",
       "      <td>0.0</td>\n",
       "      <td>5.0</td>\n",
       "      <td>0.0</td>\n",
       "      <td>0.0</td>\n",
       "      <td>5.0</td>\n",
       "      <td>4.0</td>\n",
       "      <td>0.0</td>\n",
       "      <td>0.0</td>\n",
       "      <td>...</td>\n",
       "      <td>0.0</td>\n",
       "      <td>0.0</td>\n",
       "      <td>0.0</td>\n",
       "      <td>0.0</td>\n",
       "      <td>0.0</td>\n",
       "      <td>0.0</td>\n",
       "      <td>0.0</td>\n",
       "      <td>0.0</td>\n",
       "      <td>0.0</td>\n",
       "      <td>0.0</td>\n",
       "    </tr>\n",
       "    <tr>\n",
       "      <th>53424</th>\n",
       "      <td>4.0</td>\n",
       "      <td>5.0</td>\n",
       "      <td>0.0</td>\n",
       "      <td>5.0</td>\n",
       "      <td>0.0</td>\n",
       "      <td>0.0</td>\n",
       "      <td>5.0</td>\n",
       "      <td>0.0</td>\n",
       "      <td>0.0</td>\n",
       "      <td>5.0</td>\n",
       "      <td>...</td>\n",
       "      <td>0.0</td>\n",
       "      <td>0.0</td>\n",
       "      <td>0.0</td>\n",
       "      <td>0.0</td>\n",
       "      <td>0.0</td>\n",
       "      <td>0.0</td>\n",
       "      <td>0.0</td>\n",
       "      <td>0.0</td>\n",
       "      <td>0.0</td>\n",
       "      <td>0.0</td>\n",
       "    </tr>\n",
       "  </tbody>\n",
       "</table>\n",
       "<p>53424 rows × 10000 columns</p>\n",
       "</div>"
      ],
      "text/plain": [
       "book_id  1      2      3      4      5      6      7      8      9      10     \\\n",
       "user_id                                                                         \n",
       "1          0.0    0.0    0.0    5.0    0.0    0.0    0.0    0.0    0.0    4.0   \n",
       "2          0.0    5.0    0.0    0.0    5.0    0.0    0.0    4.0    0.0    5.0   \n",
       "3          0.0    0.0    0.0    0.0    0.0    0.0    0.0    0.0    0.0    0.0   \n",
       "4          0.0    5.0    0.0    0.0    4.0    0.0    4.0    4.0    0.0    5.0   \n",
       "5          0.0    0.0    0.0    0.0    0.0    4.0    0.0    0.0    0.0    0.0   \n",
       "...        ...    ...    ...    ...    ...    ...    ...    ...    ...    ...   \n",
       "53420      0.0    5.0    3.0    0.0    2.0    0.0    0.0    0.0    4.0    3.0   \n",
       "53421      4.0    5.0    0.0    5.0    0.0    0.0    4.0    0.0    5.0    0.0   \n",
       "53422      4.0    5.0    0.0    0.0    0.0    0.0    5.0    0.0    0.0    5.0   \n",
       "53423      4.0    5.0    0.0    5.0    0.0    0.0    5.0    4.0    0.0    0.0   \n",
       "53424      4.0    5.0    0.0    5.0    0.0    0.0    5.0    0.0    0.0    5.0   \n",
       "\n",
       "book_id  ...  9991   9992   9993   9994   9995   9996   9997   9998   9999   \\\n",
       "user_id  ...                                                                  \n",
       "1        ...    0.0    0.0    0.0    0.0    0.0    0.0    0.0    0.0    0.0   \n",
       "2        ...    0.0    0.0    0.0    0.0    0.0    0.0    0.0    0.0    0.0   \n",
       "3        ...    0.0    0.0    0.0    0.0    0.0    0.0    0.0    0.0    0.0   \n",
       "4        ...    0.0    0.0    0.0    0.0    0.0    0.0    0.0    0.0    0.0   \n",
       "5        ...    0.0    0.0    0.0    0.0    0.0    0.0    0.0    0.0    0.0   \n",
       "...      ...    ...    ...    ...    ...    ...    ...    ...    ...    ...   \n",
       "53420    ...    0.0    0.0    0.0    0.0    0.0    0.0    0.0    0.0    0.0   \n",
       "53421    ...    0.0    0.0    0.0    0.0    0.0    0.0    0.0    0.0    0.0   \n",
       "53422    ...    0.0    0.0    0.0    0.0    0.0    0.0    0.0    0.0    0.0   \n",
       "53423    ...    0.0    0.0    0.0    0.0    0.0    0.0    0.0    0.0    0.0   \n",
       "53424    ...    0.0    0.0    0.0    0.0    0.0    0.0    0.0    0.0    0.0   \n",
       "\n",
       "book_id  10000  \n",
       "user_id         \n",
       "1          0.0  \n",
       "2          0.0  \n",
       "3          0.0  \n",
       "4          0.0  \n",
       "5          0.0  \n",
       "...        ...  \n",
       "53420      0.0  \n",
       "53421      0.0  \n",
       "53422      0.0  \n",
       "53423      0.0  \n",
       "53424      0.0  \n",
       "\n",
       "[53424 rows x 10000 columns]"
      ]
     },
     "execution_count": 29,
     "metadata": {},
     "output_type": "execute_result"
    }
   ],
   "source": [
    "user_book_matrix"
   ]
  },
  {
   "cell_type": "code",
   "execution_count": 30,
   "metadata": {},
   "outputs": [],
   "source": [
    "user_cluster_mapping = pd.DataFrame({'user_id': user_book_matrix.index, 'cluster': clusters})\n",
    "\n",
    "# Merge this mapping with the ratings dataframe\n",
    "ratings = pd.merge(ratings, user_cluster_mapping, on='user_id', how='left')"
   ]
  },
  {
   "cell_type": "code",
   "execution_count": 20,
   "metadata": {},
   "outputs": [
    {
     "name": "stdout",
     "output_type": "stream",
     "text": [
      "Silhouette Score for 2 clusters: 0.05\n",
      "Silhouette Score for 3 clusters: 0.06\n",
      "Silhouette Score for 4 clusters: 0.06\n",
      "Silhouette Score for 5 clusters: 0.06\n",
      "Silhouette Score for 6 clusters: 0.04\n",
      "Silhouette Score for 7 clusters: 0.04\n",
      "Silhouette Score for 8 clusters: 0.04\n"
     ]
    },
    {
     "name": "stderr",
     "output_type": "stream",
     "text": [
      "\n",
      "KeyboardInterrupt\n",
      "\n"
     ]
    }
   ],
   "source": [
    "# Convert the user-item matrix into a sparse matrix for efficiency\n",
    "sparse_matrix = csr_matrix(user_book_matrix[:10000].values)\n",
    "\n",
    "best_silhouette = -1\n",
    "best_n_clusters = 0\n",
    "n_c = []\n",
    "\n",
    "# Iterate over a range of cluster numbers (e.g., from 2 to 15)\n",
    "for n_clusters in range(2, 16):\n",
    "    agg_clustering = AgglomerativeClustering(n_clusters=n_clusters, linkage='ward')\n",
    "    clusters = agg_clustering.fit_predict(sparse_matrix.toarray())\n",
    "    \n",
    "    silhouette_avg = silhouette_score(sparse_matrix, clusters)\n",
    "    print(f'Silhouette Score for {n_clusters} clusters: {silhouette_avg:.2f}')\n",
    "    \n",
    "    n_c.append(silhouette_avg)\n",
    "\n",
    "    if silhouette_avg > best_silhouette:\n",
    "        best_silhouette = silhouette_avg\n",
    "        best_n_clusters = n_clusters\n",
    "\n",
    "print(f'Optimal number of clusters: {best_n_clusters} with Silhouette Score: {best_silhouette:.2f}')"
   ]
  },
  {
   "cell_type": "code",
   "execution_count": 15,
   "metadata": {},
   "outputs": [],
   "source": [
    "scaled_data = StandardScaler().fit_transform(user_book_matrix)"
   ]
  },
  {
   "cell_type": "code",
   "execution_count": 13,
   "metadata": {},
   "outputs": [],
   "source": [
    "# Agglomerative Clustering\n",
    "agg_clustering = AgglomerativeClustering(n_clusters=7).fit(scaled_data)\n",
    "labels = agg_clustering.labels_"
   ]
  },
  {
   "cell_type": "code",
   "execution_count": 19,
   "metadata": {},
   "outputs": [
    {
     "name": "stdout",
     "output_type": "stream",
     "text": [
      "None\n"
     ]
    }
   ],
   "source": [
    "print(pd. DataFrame(clusters, columns=['cluster']).to_csv('agglo-clusters.csv'))"
   ]
  },
  {
   "cell_type": "code",
   "execution_count": 18,
   "metadata": {},
   "outputs": [
    {
     "name": "stdout",
     "output_type": "stream",
     "text": [
      "Total clusters: 7\n",
      "Users in noise cluster: 0\n"
     ]
    }
   ],
   "source": [
    "# Виведення результатів\n",
    "print(f\"Total clusters: {len(set(labels)) - (1 if -1 in labels else 0)}\")\n",
    "print(f\"Users in noise cluster: {(labels == -1).sum()}\")"
   ]
  },
  {
   "cell_type": "markdown",
   "metadata": {},
   "source": [
    "## Actor-Critic"
   ]
  },
  {
   "cell_type": "code",
   "execution_count": 41,
   "metadata": {},
   "outputs": [
    {
     "data": {
      "text/plain": [
       "0          0\n",
       "1          5\n",
       "2          5\n",
       "3          5\n",
       "4          5\n",
       "          ..\n",
       "5976474    5\n",
       "5976475    5\n",
       "5976476    5\n",
       "5976477    5\n",
       "5976478    5\n",
       "Name: cluster, Length: 5976479, dtype: int64"
      ]
     },
     "execution_count": 41,
     "metadata": {},
     "output_type": "execute_result"
    }
   ],
   "source": [
    "ratings['cluster']"
   ]
  },
  {
   "cell_type": "code",
   "execution_count": 51,
   "metadata": {},
   "outputs": [
    {
     "data": {
      "text/html": [
       "<div>\n",
       "<style scoped>\n",
       "    .dataframe tbody tr th:only-of-type {\n",
       "        vertical-align: middle;\n",
       "    }\n",
       "\n",
       "    .dataframe tbody tr th {\n",
       "        vertical-align: top;\n",
       "    }\n",
       "\n",
       "    .dataframe thead th {\n",
       "        text-align: right;\n",
       "    }\n",
       "</style>\n",
       "<table border=\"1\" class=\"dataframe\">\n",
       "  <thead>\n",
       "    <tr style=\"text-align: right;\">\n",
       "      <th>book_id</th>\n",
       "      <th>1</th>\n",
       "      <th>2</th>\n",
       "      <th>3</th>\n",
       "      <th>4</th>\n",
       "      <th>5</th>\n",
       "      <th>6</th>\n",
       "      <th>7</th>\n",
       "      <th>8</th>\n",
       "      <th>9</th>\n",
       "      <th>10</th>\n",
       "      <th>...</th>\n",
       "      <th>9992</th>\n",
       "      <th>9993</th>\n",
       "      <th>9994</th>\n",
       "      <th>9995</th>\n",
       "      <th>9996</th>\n",
       "      <th>9997</th>\n",
       "      <th>9998</th>\n",
       "      <th>9999</th>\n",
       "      <th>10000</th>\n",
       "      <th>cluster</th>\n",
       "    </tr>\n",
       "    <tr>\n",
       "      <th>user_id</th>\n",
       "      <th></th>\n",
       "      <th></th>\n",
       "      <th></th>\n",
       "      <th></th>\n",
       "      <th></th>\n",
       "      <th></th>\n",
       "      <th></th>\n",
       "      <th></th>\n",
       "      <th></th>\n",
       "      <th></th>\n",
       "      <th></th>\n",
       "      <th></th>\n",
       "      <th></th>\n",
       "      <th></th>\n",
       "      <th></th>\n",
       "      <th></th>\n",
       "      <th></th>\n",
       "      <th></th>\n",
       "      <th></th>\n",
       "      <th></th>\n",
       "      <th></th>\n",
       "    </tr>\n",
       "  </thead>\n",
       "  <tbody>\n",
       "    <tr>\n",
       "      <th>1</th>\n",
       "      <td>0.0</td>\n",
       "      <td>0.0</td>\n",
       "      <td>0.0</td>\n",
       "      <td>5.0</td>\n",
       "      <td>0.0</td>\n",
       "      <td>0.0</td>\n",
       "      <td>0.0</td>\n",
       "      <td>0.0</td>\n",
       "      <td>0.0</td>\n",
       "      <td>4.0</td>\n",
       "      <td>...</td>\n",
       "      <td>0.0</td>\n",
       "      <td>0.0</td>\n",
       "      <td>0.0</td>\n",
       "      <td>0.0</td>\n",
       "      <td>0.0</td>\n",
       "      <td>0.0</td>\n",
       "      <td>0.0</td>\n",
       "      <td>0.0</td>\n",
       "      <td>0.0</td>\n",
       "      <td>3</td>\n",
       "    </tr>\n",
       "    <tr>\n",
       "      <th>2</th>\n",
       "      <td>0.0</td>\n",
       "      <td>5.0</td>\n",
       "      <td>0.0</td>\n",
       "      <td>0.0</td>\n",
       "      <td>5.0</td>\n",
       "      <td>0.0</td>\n",
       "      <td>0.0</td>\n",
       "      <td>4.0</td>\n",
       "      <td>0.0</td>\n",
       "      <td>5.0</td>\n",
       "      <td>...</td>\n",
       "      <td>0.0</td>\n",
       "      <td>0.0</td>\n",
       "      <td>0.0</td>\n",
       "      <td>0.0</td>\n",
       "      <td>0.0</td>\n",
       "      <td>0.0</td>\n",
       "      <td>0.0</td>\n",
       "      <td>0.0</td>\n",
       "      <td>0.0</td>\n",
       "      <td>0</td>\n",
       "    </tr>\n",
       "    <tr>\n",
       "      <th>3</th>\n",
       "      <td>0.0</td>\n",
       "      <td>0.0</td>\n",
       "      <td>0.0</td>\n",
       "      <td>0.0</td>\n",
       "      <td>0.0</td>\n",
       "      <td>0.0</td>\n",
       "      <td>0.0</td>\n",
       "      <td>0.0</td>\n",
       "      <td>0.0</td>\n",
       "      <td>0.0</td>\n",
       "      <td>...</td>\n",
       "      <td>0.0</td>\n",
       "      <td>0.0</td>\n",
       "      <td>0.0</td>\n",
       "      <td>0.0</td>\n",
       "      <td>0.0</td>\n",
       "      <td>0.0</td>\n",
       "      <td>0.0</td>\n",
       "      <td>0.0</td>\n",
       "      <td>0.0</td>\n",
       "      <td>5</td>\n",
       "    </tr>\n",
       "    <tr>\n",
       "      <th>4</th>\n",
       "      <td>0.0</td>\n",
       "      <td>5.0</td>\n",
       "      <td>0.0</td>\n",
       "      <td>0.0</td>\n",
       "      <td>4.0</td>\n",
       "      <td>0.0</td>\n",
       "      <td>4.0</td>\n",
       "      <td>4.0</td>\n",
       "      <td>0.0</td>\n",
       "      <td>5.0</td>\n",
       "      <td>...</td>\n",
       "      <td>0.0</td>\n",
       "      <td>0.0</td>\n",
       "      <td>0.0</td>\n",
       "      <td>0.0</td>\n",
       "      <td>0.0</td>\n",
       "      <td>0.0</td>\n",
       "      <td>0.0</td>\n",
       "      <td>0.0</td>\n",
       "      <td>0.0</td>\n",
       "      <td>6</td>\n",
       "    </tr>\n",
       "    <tr>\n",
       "      <th>5</th>\n",
       "      <td>0.0</td>\n",
       "      <td>0.0</td>\n",
       "      <td>0.0</td>\n",
       "      <td>0.0</td>\n",
       "      <td>0.0</td>\n",
       "      <td>4.0</td>\n",
       "      <td>0.0</td>\n",
       "      <td>0.0</td>\n",
       "      <td>0.0</td>\n",
       "      <td>0.0</td>\n",
       "      <td>...</td>\n",
       "      <td>0.0</td>\n",
       "      <td>0.0</td>\n",
       "      <td>0.0</td>\n",
       "      <td>0.0</td>\n",
       "      <td>0.0</td>\n",
       "      <td>0.0</td>\n",
       "      <td>0.0</td>\n",
       "      <td>0.0</td>\n",
       "      <td>0.0</td>\n",
       "      <td>5</td>\n",
       "    </tr>\n",
       "    <tr>\n",
       "      <th>...</th>\n",
       "      <td>...</td>\n",
       "      <td>...</td>\n",
       "      <td>...</td>\n",
       "      <td>...</td>\n",
       "      <td>...</td>\n",
       "      <td>...</td>\n",
       "      <td>...</td>\n",
       "      <td>...</td>\n",
       "      <td>...</td>\n",
       "      <td>...</td>\n",
       "      <td>...</td>\n",
       "      <td>...</td>\n",
       "      <td>...</td>\n",
       "      <td>...</td>\n",
       "      <td>...</td>\n",
       "      <td>...</td>\n",
       "      <td>...</td>\n",
       "      <td>...</td>\n",
       "      <td>...</td>\n",
       "      <td>...</td>\n",
       "      <td>...</td>\n",
       "    </tr>\n",
       "    <tr>\n",
       "      <th>53420</th>\n",
       "      <td>0.0</td>\n",
       "      <td>5.0</td>\n",
       "      <td>3.0</td>\n",
       "      <td>0.0</td>\n",
       "      <td>2.0</td>\n",
       "      <td>0.0</td>\n",
       "      <td>0.0</td>\n",
       "      <td>0.0</td>\n",
       "      <td>4.0</td>\n",
       "      <td>3.0</td>\n",
       "      <td>...</td>\n",
       "      <td>0.0</td>\n",
       "      <td>0.0</td>\n",
       "      <td>0.0</td>\n",
       "      <td>0.0</td>\n",
       "      <td>0.0</td>\n",
       "      <td>0.0</td>\n",
       "      <td>0.0</td>\n",
       "      <td>0.0</td>\n",
       "      <td>0.0</td>\n",
       "      <td>3</td>\n",
       "    </tr>\n",
       "    <tr>\n",
       "      <th>53421</th>\n",
       "      <td>4.0</td>\n",
       "      <td>5.0</td>\n",
       "      <td>0.0</td>\n",
       "      <td>5.0</td>\n",
       "      <td>0.0</td>\n",
       "      <td>0.0</td>\n",
       "      <td>4.0</td>\n",
       "      <td>0.0</td>\n",
       "      <td>5.0</td>\n",
       "      <td>0.0</td>\n",
       "      <td>...</td>\n",
       "      <td>0.0</td>\n",
       "      <td>0.0</td>\n",
       "      <td>0.0</td>\n",
       "      <td>0.0</td>\n",
       "      <td>0.0</td>\n",
       "      <td>0.0</td>\n",
       "      <td>0.0</td>\n",
       "      <td>0.0</td>\n",
       "      <td>0.0</td>\n",
       "      <td>6</td>\n",
       "    </tr>\n",
       "    <tr>\n",
       "      <th>53422</th>\n",
       "      <td>4.0</td>\n",
       "      <td>5.0</td>\n",
       "      <td>0.0</td>\n",
       "      <td>0.0</td>\n",
       "      <td>0.0</td>\n",
       "      <td>0.0</td>\n",
       "      <td>5.0</td>\n",
       "      <td>0.0</td>\n",
       "      <td>0.0</td>\n",
       "      <td>5.0</td>\n",
       "      <td>...</td>\n",
       "      <td>0.0</td>\n",
       "      <td>0.0</td>\n",
       "      <td>0.0</td>\n",
       "      <td>0.0</td>\n",
       "      <td>0.0</td>\n",
       "      <td>0.0</td>\n",
       "      <td>0.0</td>\n",
       "      <td>0.0</td>\n",
       "      <td>0.0</td>\n",
       "      <td>0</td>\n",
       "    </tr>\n",
       "    <tr>\n",
       "      <th>53423</th>\n",
       "      <td>4.0</td>\n",
       "      <td>5.0</td>\n",
       "      <td>0.0</td>\n",
       "      <td>5.0</td>\n",
       "      <td>0.0</td>\n",
       "      <td>0.0</td>\n",
       "      <td>5.0</td>\n",
       "      <td>4.0</td>\n",
       "      <td>0.0</td>\n",
       "      <td>0.0</td>\n",
       "      <td>...</td>\n",
       "      <td>0.0</td>\n",
       "      <td>0.0</td>\n",
       "      <td>0.0</td>\n",
       "      <td>0.0</td>\n",
       "      <td>0.0</td>\n",
       "      <td>0.0</td>\n",
       "      <td>0.0</td>\n",
       "      <td>0.0</td>\n",
       "      <td>0.0</td>\n",
       "      <td>0</td>\n",
       "    </tr>\n",
       "    <tr>\n",
       "      <th>53424</th>\n",
       "      <td>4.0</td>\n",
       "      <td>5.0</td>\n",
       "      <td>0.0</td>\n",
       "      <td>5.0</td>\n",
       "      <td>0.0</td>\n",
       "      <td>0.0</td>\n",
       "      <td>5.0</td>\n",
       "      <td>0.0</td>\n",
       "      <td>0.0</td>\n",
       "      <td>5.0</td>\n",
       "      <td>...</td>\n",
       "      <td>0.0</td>\n",
       "      <td>0.0</td>\n",
       "      <td>0.0</td>\n",
       "      <td>0.0</td>\n",
       "      <td>0.0</td>\n",
       "      <td>0.0</td>\n",
       "      <td>0.0</td>\n",
       "      <td>0.0</td>\n",
       "      <td>0.0</td>\n",
       "      <td>0</td>\n",
       "    </tr>\n",
       "  </tbody>\n",
       "</table>\n",
       "<p>53424 rows × 10001 columns</p>\n",
       "</div>"
      ],
      "text/plain": [
       "book_id    1    2    3    4    5    6    7    8    9   10  ...  9992  9993  \\\n",
       "user_id                                                    ...               \n",
       "1        0.0  0.0  0.0  5.0  0.0  0.0  0.0  0.0  0.0  4.0  ...   0.0   0.0   \n",
       "2        0.0  5.0  0.0  0.0  5.0  0.0  0.0  4.0  0.0  5.0  ...   0.0   0.0   \n",
       "3        0.0  0.0  0.0  0.0  0.0  0.0  0.0  0.0  0.0  0.0  ...   0.0   0.0   \n",
       "4        0.0  5.0  0.0  0.0  4.0  0.0  4.0  4.0  0.0  5.0  ...   0.0   0.0   \n",
       "5        0.0  0.0  0.0  0.0  0.0  4.0  0.0  0.0  0.0  0.0  ...   0.0   0.0   \n",
       "...      ...  ...  ...  ...  ...  ...  ...  ...  ...  ...  ...   ...   ...   \n",
       "53420    0.0  5.0  3.0  0.0  2.0  0.0  0.0  0.0  4.0  3.0  ...   0.0   0.0   \n",
       "53421    4.0  5.0  0.0  5.0  0.0  0.0  4.0  0.0  5.0  0.0  ...   0.0   0.0   \n",
       "53422    4.0  5.0  0.0  0.0  0.0  0.0  5.0  0.0  0.0  5.0  ...   0.0   0.0   \n",
       "53423    4.0  5.0  0.0  5.0  0.0  0.0  5.0  4.0  0.0  0.0  ...   0.0   0.0   \n",
       "53424    4.0  5.0  0.0  5.0  0.0  0.0  5.0  0.0  0.0  5.0  ...   0.0   0.0   \n",
       "\n",
       "book_id  9994  9995  9996  9997  9998  9999  10000  cluster  \n",
       "user_id                                                      \n",
       "1         0.0   0.0   0.0   0.0   0.0   0.0    0.0        3  \n",
       "2         0.0   0.0   0.0   0.0   0.0   0.0    0.0        0  \n",
       "3         0.0   0.0   0.0   0.0   0.0   0.0    0.0        5  \n",
       "4         0.0   0.0   0.0   0.0   0.0   0.0    0.0        6  \n",
       "5         0.0   0.0   0.0   0.0   0.0   0.0    0.0        5  \n",
       "...       ...   ...   ...   ...   ...   ...    ...      ...  \n",
       "53420     0.0   0.0   0.0   0.0   0.0   0.0    0.0        3  \n",
       "53421     0.0   0.0   0.0   0.0   0.0   0.0    0.0        6  \n",
       "53422     0.0   0.0   0.0   0.0   0.0   0.0    0.0        0  \n",
       "53423     0.0   0.0   0.0   0.0   0.0   0.0    0.0        0  \n",
       "53424     0.0   0.0   0.0   0.0   0.0   0.0    0.0        0  \n",
       "\n",
       "[53424 rows x 10001 columns]"
      ]
     },
     "execution_count": 51,
     "metadata": {},
     "output_type": "execute_result"
    }
   ],
   "source": [
    "user_book_matrix['cluster'] = clusters\n",
    "user_book_matrix"
   ]
  },
  {
   "cell_type": "code",
   "execution_count": 52,
   "metadata": {},
   "outputs": [],
   "source": [
    "# Actor-Critic Model\n",
    "state_size = len(user_book_matrix.columns)\n",
    "action_size = len(user_book_matrix.columns) - 1  # виключаючи колонку 'cluster'\n"
   ]
  },
  {
   "cell_type": "code",
   "execution_count": 53,
   "metadata": {},
   "outputs": [],
   "source": [
    "# Actor Model\n",
    "actor_input = Input(shape=(state_size,))\n",
    "actor_hidden = Dense(24, activation='relu')(actor_input)\n",
    "actor_hidden = Dense(24, activation='relu')(actor_hidden)\n",
    "actor_output = Dense(action_size, activation='softmax')(actor_hidden)\n",
    "actor_model = Model(inputs=actor_input, outputs=actor_output)\n"
   ]
  },
  {
   "cell_type": "code",
   "execution_count": 54,
   "metadata": {},
   "outputs": [],
   "source": [
    "# Critic Model\n",
    "critic_input = Input(shape=(state_size,))\n",
    "critic_hidden = Dense(24, activation='relu')(critic_input)\n",
    "critic_hidden = Dense(24, activation='relu')(critic_hidden)\n",
    "critic_output = Dense(1, activation='linear')(critic_hidden)\n",
    "critic_model = Model(inputs=critic_input, outputs=critic_output)"
   ]
  },
  {
   "cell_type": "code",
   "execution_count": 55,
   "metadata": {},
   "outputs": [],
   "source": [
    "# Compile the models\n",
    "actor_model.compile(loss='categorical_crossentropy', optimizer='adam')\n",
    "critic_model.compile(loss='mse', optimizer='adam')"
   ]
  },
  {
   "cell_type": "code",
   "execution_count": null,
   "metadata": {},
   "outputs": [],
   "source": [
    "# Actor-Critic Training\n",
    "\n",
    "gamma = 0.95\n",
    "for episode in range(100):\n",
    "    state = user_book_matrix.sample(1).drop('cluster', axis=1).values\n",
    "    user_cluster = user_book_matrix.sample(1)['cluster'].values[0]\n",
    "    cluster_books = user_book_matrix[user_book_matrix['cluster'] == user_cluster].mean().drop('cluster')\n",
    "    \n",
    "    for step in range(10):  # Assuming 10 steps per episode\n",
    "        action_prob = actor_model.predict(state)\n",
    "        action_prob = action_prob * cluster_books.values\n",
    "        action = np.random.choice(action_size, p=action_prob[0])\n",
    "        \n",
    "        # Reward mechanism based on user interaction\n",
    "        # Placeholder: Assuming a binary feedback (1 for positive, -1 for negative)\n",
    "        user_feedback = 1 if np.random.rand() > 0.5 else -1  # This should be replaced with actual user feedback\n",
    "        reward = user_feedback\n",
    "        \n",
    "        # Transition to the next state\n",
    "        # Placeholder: Assuming the state changes slightly based on user interaction\n",
    "        next_state = state + 0.1 * user_feedback  # This should be replaced with an actual state transition mechanism\n",
    "        \n",
    "        target = reward + gamma * critic_model.predict(next_state)\n",
    "        advantage = target - critic_model.predict(state)\n",
    "        \n",
    "        # Update the actor model\n",
    "        labels = np.zeros(action_size)\n",
    "        labels[action] = advantage\n",
    "        actor_model.fit(state, labels.reshape(1, -1), epochs=1, verbose=0)\n",
    "        \n",
    "        # Update the critic model\n",
    "        critic_model.fit(state, target, epochs=1, verbose=0)\n",
    "        \n",
    "        state = next_state\n"
   ]
  }
 ],
 "metadata": {
  "kernelspec": {
   "display_name": "Python 3",
   "language": "python",
   "name": "python3"
  },
  "language_info": {
   "codemirror_mode": {
    "name": "ipython",
    "version": 3
   },
   "file_extension": ".py",
   "mimetype": "text/x-python",
   "name": "python",
   "nbconvert_exporter": "python",
   "pygments_lexer": "ipython3",
   "version": "3.11.5"
  },
  "orig_nbformat": 4
 },
 "nbformat": 4,
 "nbformat_minor": 2
}
