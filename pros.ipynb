{
 "cells": [
  {
   "cell_type": "code",
   "execution_count": 1,
   "metadata": {},
   "outputs": [],
   "source": [
    "import numpy as np\n",
    "import pandas as pd\n",
    "import matplotlib.pyplot as plt\n",
    "from sklearn.cluster import KMeans\n",
    "from sklearn.model_selection import train_test_split\n",
    "import concurrent.futures\n",
    "from joblib import Parallel, delayed\n",
    "import multiprocessing\n",
    "from sklearn.cluster import DBSCAN\n",
    "import torch.nn as nn\n",
    "import torch.optim as optim\n",
    "from sklearn.preprocessing import StandardScaler\n",
    "from sklearn.cluster import DBSCAN\n",
    "import seaborn as sns"
   ]
  },
  {
   "cell_type": "code",
   "execution_count": null,
   "metadata": {},
   "outputs": [],
   "source": [
    "to_read = pd.read_csv('to_read.csv')\n",
    "book_tags = pd.read_csv('book_tags.csv')\n",
    "tags = pd.read_csv('tags.csv')"
   ]
  },
  {
   "cell_type": "code",
   "execution_count": 39,
   "metadata": {},
   "outputs": [],
   "source": [
    "# Load the dataset\n",
    "books = pd.read_csv('books.csv')\n",
    "ratings = pd.read_csv('ratings.csv')\n"
   ]
  },
  {
   "cell_type": "code",
   "execution_count": null,
   "metadata": {},
   "outputs": [],
   "source": [
    "# Check the first few rows to understand the structure\n",
    "print(books.head())\n",
    "print(ratings.head())"
   ]
  },
  {
   "cell_type": "code",
   "execution_count": 40,
   "metadata": {},
   "outputs": [
    {
     "name": "stdout",
     "output_type": "stream",
     "text": [
      "book_id                         0\n",
      "goodreads_book_id               0\n",
      "best_book_id                    0\n",
      "work_id                         0\n",
      "books_count                     0\n",
      "isbn                          700\n",
      "isbn13                        585\n",
      "authors                         0\n",
      "original_publication_year      21\n",
      "original_title                585\n",
      "title                           0\n",
      "language_code                1084\n",
      "average_rating                  0\n",
      "ratings_count                   0\n",
      "work_ratings_count              0\n",
      "work_text_reviews_count         0\n",
      "ratings_1                       0\n",
      "ratings_2                       0\n",
      "ratings_3                       0\n",
      "ratings_4                       0\n",
      "ratings_5                       0\n",
      "image_url                       0\n",
      "small_image_url                 0\n",
      "dtype: int64\n",
      "user_id    0\n",
      "book_id    0\n",
      "rating     0\n",
      "dtype: int64\n"
     ]
    }
   ],
   "source": [
    "# Check for missing values\n",
    "print(books.isnull().sum())\n",
    "print(ratings.isnull().sum())"
   ]
  },
  {
   "cell_type": "code",
   "execution_count": 41,
   "metadata": {},
   "outputs": [],
   "source": [
    "# Handle missing values\n",
    "books.fillna(0, inplace=True)"
   ]
  },
  {
   "cell_type": "markdown",
   "metadata": {},
   "source": []
  },
  {
   "cell_type": "code",
   "execution_count": 8,
   "metadata": {},
   "outputs": [
    {
     "name": "stdout",
     "output_type": "stream",
     "text": [
      "book_id  1      2      3      4      5      6      7      8      9      10     \\\n",
      "user_id                                                                         \n",
      "1          0.0    0.0    0.0    5.0    0.0    0.0    0.0    0.0    0.0    4.0   \n",
      "2          0.0    5.0    0.0    0.0    5.0    0.0    0.0    4.0    0.0    5.0   \n",
      "3          0.0    0.0    0.0    3.0    0.0    0.0    0.0    0.0    0.0    0.0   \n",
      "4          0.0    5.0    0.0    4.0    4.0    0.0    4.0    4.0    0.0    5.0   \n",
      "5          0.0    0.0    0.0    0.0    0.0    4.0    0.0    0.0    0.0    0.0   \n",
      "...        ...    ...    ...    ...    ...    ...    ...    ...    ...    ...   \n",
      "53420      4.0    5.0    3.0    0.0    2.0    0.0    0.0    0.0    4.0    3.0   \n",
      "53421      4.0    5.0    0.0    5.0    4.0    0.0    4.0    0.0    5.0    0.0   \n",
      "53422      4.0    5.0    0.0    0.0    0.0    0.0    5.0    0.0    0.0    5.0   \n",
      "53423      4.0    5.0    0.0    5.0    0.0    0.0    5.0    4.0    0.0    0.0   \n",
      "53424      4.0    5.0    4.0    5.0    0.0    0.0    5.0    0.0    0.0    5.0   \n",
      "\n",
      "book_id  ...  9991   9992   9993   9994   9995   9996   9997   9998   9999   \\\n",
      "user_id  ...                                                                  \n",
      "1        ...    0.0    0.0    0.0    0.0    0.0    0.0    0.0    0.0    0.0   \n",
      "2        ...    0.0    0.0    0.0    0.0    0.0    0.0    0.0    0.0    0.0   \n",
      "3        ...    0.0    0.0    0.0    0.0    0.0    0.0    0.0    0.0    0.0   \n",
      "4        ...    0.0    0.0    0.0    0.0    0.0    0.0    0.0    0.0    0.0   \n",
      "5        ...    0.0    0.0    0.0    0.0    0.0    0.0    0.0    0.0    0.0   \n",
      "...      ...    ...    ...    ...    ...    ...    ...    ...    ...    ...   \n",
      "53420    ...    0.0    0.0    0.0    0.0    0.0    0.0    0.0    0.0    0.0   \n",
      "53421    ...    0.0    0.0    0.0    0.0    0.0    0.0    0.0    0.0    0.0   \n",
      "53422    ...    0.0    0.0    0.0    0.0    0.0    0.0    0.0    0.0    0.0   \n",
      "53423    ...    0.0    0.0    0.0    0.0    0.0    0.0    0.0    0.0    0.0   \n",
      "53424    ...    0.0    0.0    0.0    0.0    0.0    0.0    0.0    0.0    0.0   \n",
      "\n",
      "book_id  10000  \n",
      "user_id         \n",
      "1          0.0  \n",
      "2          0.0  \n",
      "3          0.0  \n",
      "4          0.0  \n",
      "5          0.0  \n",
      "...        ...  \n",
      "53420      0.0  \n",
      "53421      0.0  \n",
      "53422      0.0  \n",
      "53423      0.0  \n",
      "53424      0.0  \n",
      "\n",
      "[53424 rows x 10000 columns]\n"
     ]
    }
   ],
   "source": [
    "interaction_matrix = ratings.pivot(index='user_id', columns='book_id', values='rating').fillna(0)"
   ]
  },
  {
   "cell_type": "code",
   "execution_count": 10,
   "metadata": {},
   "outputs": [
    {
     "name": "stdout",
     "output_type": "stream",
     "text": [
      "book_id  1      2      3      4      5      6      7      8      9      10     \\\n",
      "user_id                                                                         \n",
      "1          0.0    0.0    0.0    5.0    0.0    0.0    0.0    0.0    0.0    4.0   \n",
      "2          0.0    5.0    0.0    0.0    5.0    0.0    0.0    4.0    0.0    5.0   \n",
      "3          0.0    0.0    0.0    3.0    0.0    0.0    0.0    0.0    0.0    0.0   \n",
      "4          0.0    5.0    0.0    4.0    4.0    0.0    4.0    4.0    0.0    5.0   \n",
      "5          0.0    0.0    0.0    0.0    0.0    4.0    0.0    0.0    0.0    0.0   \n",
      "...        ...    ...    ...    ...    ...    ...    ...    ...    ...    ...   \n",
      "53420      4.0    5.0    3.0    0.0    2.0    0.0    0.0    0.0    4.0    3.0   \n",
      "53421      4.0    5.0    0.0    5.0    4.0    0.0    4.0    0.0    5.0    0.0   \n",
      "53422      4.0    5.0    0.0    0.0    0.0    0.0    5.0    0.0    0.0    5.0   \n",
      "53423      4.0    5.0    0.0    5.0    0.0    0.0    5.0    4.0    0.0    0.0   \n",
      "53424      4.0    5.0    4.0    5.0    0.0    0.0    5.0    0.0    0.0    5.0   \n",
      "\n",
      "book_id  ...  9991   9992   9993   9994   9995   9996   9997   9998   9999   \\\n",
      "user_id  ...                                                                  \n",
      "1        ...    0.0    0.0    0.0    0.0    0.0    0.0    0.0    0.0    0.0   \n",
      "2        ...    0.0    0.0    0.0    0.0    0.0    0.0    0.0    0.0    0.0   \n",
      "3        ...    0.0    0.0    0.0    0.0    0.0    0.0    0.0    0.0    0.0   \n",
      "4        ...    0.0    0.0    0.0    0.0    0.0    0.0    0.0    0.0    0.0   \n",
      "5        ...    0.0    0.0    0.0    0.0    0.0    0.0    0.0    0.0    0.0   \n",
      "...      ...    ...    ...    ...    ...    ...    ...    ...    ...    ...   \n",
      "53420    ...    0.0    0.0    0.0    0.0    0.0    0.0    0.0    0.0    0.0   \n",
      "53421    ...    0.0    0.0    0.0    0.0    0.0    0.0    0.0    0.0    0.0   \n",
      "53422    ...    0.0    0.0    0.0    0.0    0.0    0.0    0.0    0.0    0.0   \n",
      "53423    ...    0.0    0.0    0.0    0.0    0.0    0.0    0.0    0.0    0.0   \n",
      "53424    ...    0.0    0.0    0.0    0.0    0.0    0.0    0.0    0.0    0.0   \n",
      "\n",
      "book_id  10000  \n",
      "user_id         \n",
      "1          0.0  \n",
      "2          0.0  \n",
      "3          0.0  \n",
      "4          0.0  \n",
      "5          0.0  \n",
      "...        ...  \n",
      "53420      0.0  \n",
      "53421      0.0  \n",
      "53422      0.0  \n",
      "53423      0.0  \n",
      "53424      0.0  \n",
      "\n",
      "[53424 rows x 10000 columns]\n"
     ]
    }
   ],
   "source": [
    "print(interaction_matrix)\n"
   ]
  },
  {
   "cell_type": "markdown",
   "metadata": {},
   "source": []
  },
  {
   "cell_type": "code",
   "execution_count": 12,
   "metadata": {},
   "outputs": [
    {
     "name": "stdout",
     "output_type": "stream",
     "text": [
      "Original shape: (53424, 10000)\n",
      "Filtered shape: (53424, 10000)\n"
     ]
    }
   ],
   "source": [
    "# Count the number of books rated by each user\n",
    "user_book_counts = (interaction_matrix > 0).sum(axis=1)\n",
    "# Filter users who have rated 4 or more books\n",
    "filtered_interaction_matrix = interaction_matrix[user_book_counts >= 4]\n",
    "\n",
    "print(f\"Original shape: {interaction_matrix.shape}\")\n",
    "print(f\"Filtered shape: {filtered_interaction_matrix.shape}\")\n"
   ]
  },
  {
   "cell_type": "code",
   "execution_count": 20,
   "metadata": {},
   "outputs": [
    {
     "data": {
      "text/plain": [
       "200"
      ]
     },
     "execution_count": 20,
     "metadata": {},
     "output_type": "execute_result"
    }
   ],
   "source": [
    "user_book_counts.max()\n"
   ]
  },
  {
   "cell_type": "markdown",
   "metadata": {},
   "source": []
  },
  {
   "cell_type": "code",
   "execution_count": 21,
   "metadata": {},
   "outputs": [],
   "source": [
    "from scipy.sparse import csr_matrix\n",
    "\n",
    "# Convert the filtered interaction matrix to a sparse matrix\n",
    "sparse_interaction_matrix = csr_matrix(filtered_interaction_matrix.values)"
   ]
  },
  {
   "cell_type": "code",
   "execution_count": 23,
   "metadata": {},
   "outputs": [
    {
     "data": {
      "text/plain": [
       "<53424x10000 sparse matrix of type '<class 'numpy.float64'>'\n",
       "\twith 5976479 stored elements in Compressed Sparse Row format>"
      ]
     },
     "execution_count": 23,
     "metadata": {},
     "output_type": "execute_result"
    }
   ],
   "source": [
    "sparse_interaction_matrix"
   ]
  },
  {
   "cell_type": "markdown",
   "metadata": {},
   "source": []
  },
  {
   "cell_type": "code",
   "execution_count": 24,
   "metadata": {},
   "outputs": [],
   "source": [
    "from scipy.sparse.linalg import svds\n",
    "import numpy as np\n",
    "\n",
    "# Assuming 'sparse_interaction_matrix' is your user-item sparse matrix\n",
    "# Choose the number of factors\n",
    "num_factors = 50  # This is a hyperparameter you can tune\n",
    "\n",
    "# Perform matrix factorization\n",
    "u, s, vt = svds(sparse_interaction_matrix, k=num_factors)\n",
    "\n",
    "# Diagonalize s\n",
    "s_diag_matrix = np.diag(s)\n",
    "\n",
    "# Reconstruct the predictions matrix\n",
    "predicted_ratings = np.dot(np.dot(u, s_diag_matrix), vt)\n"
   ]
  },
  {
   "cell_type": "markdown",
   "metadata": {},
   "source": []
  },
  {
   "cell_type": "code",
   "execution_count": 43,
   "metadata": {},
   "outputs": [
    {
     "name": "stdout",
     "output_type": "stream",
     "text": [
      "User 1 has already rated 117 books.\n",
      "Recommending the highest 5 predicted ratings books not already rated.\n",
      "     book_id  goodreads_book_id  best_book_id  work_id  books_count  \\\n",
      "41        63               6185          6185  1565818         2498   \n",
      "142      195            2728527       2728527  2754161          116   \n",
      "223      291            3591262       3591262  3633533           74   \n",
      "80       118               7763          7763  1955658          126   \n",
      "121      172           15823480      15823480  2507928         1492   \n",
      "\n",
      "          isbn        isbn13  \\\n",
      "41   393978893  9.780394e+12   \n",
      "142  385340990  9.780385e+12   \n",
      "223  375414495  9.780375e+12   \n",
      "80   143038095  9.780143e+12   \n",
      "121  345803922  9.780346e+12   \n",
      "\n",
      "                                               authors  \\\n",
      "41                       Emily Brontë, Richard J. Dunn   \n",
      "142                    Mary Ann Shaffer, Annie Barrows   \n",
      "223                                   Abraham Verghese   \n",
      "80                                             Amy Tan   \n",
      "121  Leo Tolstoy, Louise Maude, Leo Tolstoj, Aylmer...   \n",
      "\n",
      "     original_publication_year  \\\n",
      "41                      1847.0   \n",
      "142                     2008.0   \n",
      "223                     2009.0   \n",
      "80                      1989.0   \n",
      "121                     1877.0   \n",
      "\n",
      "                                        original_title  ... ratings_count  \\\n",
      "41                                   Wuthering Heights  ...        899195   \n",
      "142  The Guernsey Literary and Potato Peel Pie Society  ...        393626   \n",
      "223                                  Cutting for Stone  ...        258319   \n",
      "80                                   The Joy Luck Club  ...        515090   \n",
      "121                                      Анна Каренина  ...        297472   \n",
      "\n",
      "    work_ratings_count  work_text_reviews_count  ratings_1  ratings_2  \\\n",
      "41             1001135                    26157      46469      84084   \n",
      "142             423672                    39853       7190      17250   \n",
      "223             281079                    23146       4586       9249   \n",
      "80              525243                     6708      14802      30197   \n",
      "121             472796                    18064      11738      26945   \n",
      "\n",
      "     ratings_3  ratings_4  ratings_5  \\\n",
      "41      215320     309180     346082   \n",
      "142      68942     155107     175183   \n",
      "223      32671      91293     143280   \n",
      "80      116748     195930     167566   \n",
      "121      88365     158179     187569   \n",
      "\n",
      "                                             image_url  \\\n",
      "41   https://s.gr-assets.com/assets/nophoto/book/11...   \n",
      "142  https://images.gr-assets.com/books/1351979318m...   \n",
      "223  https://images.gr-assets.com/books/1327931601m...   \n",
      "80   https://images.gr-assets.com/books/1304978653m...   \n",
      "121  https://images.gr-assets.com/books/1352422904m...   \n",
      "\n",
      "                                       small_image_url  \n",
      "41   https://s.gr-assets.com/assets/nophoto/book/50...  \n",
      "142  https://images.gr-assets.com/books/1351979318s...  \n",
      "223  https://images.gr-assets.com/books/1327931601s...  \n",
      "80   https://images.gr-assets.com/books/1304978653s...  \n",
      "121  https://images.gr-assets.com/books/1352422904s...  \n",
      "\n",
      "[5 rows x 23 columns]\n"
     ]
    }
   ],
   "source": [
    "# Convert to DataFrame for easier handling\n",
    "predicted_ratings_df = pd.DataFrame(predicted_ratings, index=filtered_interaction_matrix.index, columns=filtered_interaction_matrix.columns)\n",
    "\n",
    "# Function to recommend books for a user\n",
    "def recommend_books(user_id, num_recommendations=5):\n",
    "    # Get user's predictions\n",
    "    user_row = predicted_ratings_df.loc[user_id]\n",
    "\n",
    "    # Sort predictions\n",
    "    sorted_user_predictions = user_row.sort_values(ascending=False)\n",
    "\n",
    "    # Get user data and merge in the book information\n",
    "    user_data = ratings[ratings.user_id == user_id]\n",
    "    user_full = (user_data.merge(books, how='left', left_on='book_id', right_on='book_id').\n",
    "                 sort_values(['rating'], ascending=False)\n",
    "                 )\n",
    "\n",
    "    print(\"User {0} has already rated {1} books.\".format(user_id, user_full.shape[0]))\n",
    "    print(\"Recommending the highest {0} predicted ratings books not already rated.\".format(num_recommendations))\n",
    "\n",
    "    # Recommend the highest predicted rating books that the user hasn't seen yet.\n",
    "    recommendations = (books[~books['book_id'].isin(user_full['book_id'])].\n",
    "                       merge(pd.DataFrame(sorted_user_predictions).reset_index(), how='left',\n",
    "                             left_on='book_id',\n",
    "                             right_on='book_id').\n",
    "                       rename(columns={user_id: 'Predictions'}).\n",
    "                       sort_values('Predictions', ascending=False).\n",
    "                       iloc[:num_recommendations, :-1]\n",
    "                       )\n",
    "\n",
    "    return recommendations\n",
    "\n",
    "# Example: Recommend 5 books for user with ID 1\n",
    "recommendations_for_user = recommend_books(user_id=1, num_recommendations=5)\n",
    "print(recommendations_for_user)\n"
   ]
  },
  {
   "cell_type": "code",
   "execution_count": 33,
   "metadata": {},
   "outputs": [
    {
     "name": "stdout",
     "output_type": "stream",
     "text": [
      "<class 'NoneType'> <class 'pandas.core.frame.DataFrame'> <class 'pandas.core.frame.DataFrame'>\n"
     ]
    }
   ],
   "source": [
    "print(type(books), type(ratings), type(predicted_ratings_df))\n"
   ]
  },
  {
   "cell_type": "markdown",
   "metadata": {},
   "source": []
  },
  {
   "cell_type": "code",
   "execution_count": 46,
   "metadata": {},
   "outputs": [
    {
     "name": "stderr",
     "output_type": "stream",
     "text": [
      "C:\\Users\\Andrew\\AppData\\Roaming\\Python\\Python311\\site-packages\\sklearn\\cluster\\_kmeans.py:1416: FutureWarning: The default value of `n_init` will change from 10 to 'auto' in 1.4. Set the value of `n_init` explicitly to suppress the warning\n",
      "  super()._check_params_vs_input(X, default_n_init=10)\n"
     ]
    }
   ],
   "source": [
    "from sklearn.cluster import KMeans\n",
    "\n",
    "# Number of clusters - this is a hyperparameter you can tune\n",
    "num_clusters = 10\n",
    "\n",
    "# We'll use the reduced dimensionality matrix from the SVD step\n",
    "kmeans = KMeans(n_clusters=num_clusters, random_state=42)\n",
    "clusters = kmeans.fit_predict(sparse_interaction_matrix.T)  # Transpose to cluster books\n",
    "\n",
    "# Add cluster information to the books DataFrame\n",
    "books['cluster'] = clusters"
   ]
  },
  {
   "cell_type": "code",
   "execution_count": 47,
   "metadata": {},
   "outputs": [
    {
     "data": {
      "text/plain": [
       "array([7, 8, 6, ..., 1, 1, 1])"
      ]
     },
     "execution_count": 47,
     "metadata": {},
     "output_type": "execute_result"
    }
   ],
   "source": [
    "clusters"
   ]
  },
  {
   "cell_type": "markdown",
   "metadata": {},
   "source": []
  },
  {
   "cell_type": "code",
   "execution_count": null,
   "metadata": {},
   "outputs": [],
   "source": [
    "from sklearn.preprocessing import MinMaxScaler\n",
    "\n",
    "scaler = MinMaxScaler()\n",
    "interaction_matrix_scaled = scaler.fit_transform(interaction_matrix)\n",
    "interaction_matrix = pd.DataFrame(interaction_matrix_scaled, index=interaction_matrix.index, columns=interaction_matrix.columns)\n"
   ]
  },
  {
   "cell_type": "code",
   "execution_count": null,
   "metadata": {},
   "outputs": [],
   "source": [
    "from sklearn.model_selection import train_test_split\n",
    "\n",
    "train_data, test_data = train_test_split(interaction_matrix, test_size=0.2, random_state=42)\n"
   ]
  },
  {
   "cell_type": "code",
   "execution_count": null,
   "metadata": {},
   "outputs": [],
   "source": []
  }
 ],
 "metadata": {
  "kernelspec": {
   "display_name": "Python 3",
   "language": "python",
   "name": "python3"
  },
  "language_info": {
   "codemirror_mode": {
    "name": "ipython",
    "version": 3
   },
   "file_extension": ".py",
   "mimetype": "text/x-python",
   "name": "python",
   "nbconvert_exporter": "python",
   "pygments_lexer": "ipython3",
   "version": "3.11.5"
  }
 },
 "nbformat": 4,
 "nbformat_minor": 2
}
